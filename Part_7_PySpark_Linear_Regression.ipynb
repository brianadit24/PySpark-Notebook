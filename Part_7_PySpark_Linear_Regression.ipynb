{
  "nbformat": 4,
  "nbformat_minor": 0,
  "metadata": {
    "application/vnd.databricks.v1+notebook": {
      "notebookName": "PySpark Linear Regression",
      "dashboards": [],
      "notebookMetadata": {
        "pythonIndentUnit": 2
      },
      "language": "python",
      "widgets": {},
      "notebookOrigID": 1034596284356640
    },
    "colab": {
      "name": "Part 7 - PySpark Linear Regression.ipynb",
      "provenance": [],
      "collapsed_sections": [],
      "include_colab_link": true
    }
  },
  "cells": [
    {
      "cell_type": "markdown",
      "metadata": {
        "id": "view-in-github",
        "colab_type": "text"
      },
      "source": [
        "<a href=\"https://colab.research.google.com/github/brianadit24/PySpark-Try/blob/main/Part_7_PySpark_Linear_Regression.ipynb\" target=\"_parent\"><img src=\"https://colab.research.google.com/assets/colab-badge.svg\" alt=\"Open In Colab\"/></a>"
      ]
    },
    {
      "cell_type": "markdown",
      "metadata": {
        "application/vnd.databricks.v1+cell": {
          "title": "",
          "showTitle": false,
          "inputWidgets": {},
          "nuid": "96816ed7-b08a-4ca3-abb9-f99880c3535d"
        },
        "id": "C9kdoe-E5Eek"
      },
      "source": [
        "## Overview\n",
        "\n",
        "This notebook will show you how to create and query a table or DataFrame that you uploaded to DBFS. [DBFS](https://docs.databricks.com/user-guide/dbfs-databricks-file-system.html) is a Databricks File System that allows you to store data for querying inside of Databricks. This notebook assumes that you have a file already inside of DBFS that you would like to read from.\n",
        "\n",
        "This notebook is written in **Python** so the default cell type is Python. However, you can use different languages by using the `%LANGUAGE` syntax. Python, Scala, SQL, and R are all supported."
      ]
    },
    {
      "cell_type": "code",
      "metadata": {
        "application/vnd.databricks.v1+cell": {
          "title": "",
          "showTitle": false,
          "inputWidgets": {},
          "nuid": "6482be4c-f067-47c9-b0ac-35c938b94601"
        },
        "id": "EgH0pMTs5Eep",
        "outputId": "5801e8c4-8d01-4946-fa21-6117f9e5d26a"
      },
      "source": [
        "# File location and type\n",
        "file_location = \"/FileStore/tables/tips.csv\"\n",
        "file_type = \"csv\"\n",
        "\n",
        "# The applied options are for CSV files. For other file types, these will be ignored.\n",
        "df = spark.read.csv(file_location, header=True, inferSchema=True)"
      ],
      "execution_count": null,
      "outputs": [
        {
          "output_type": "display_data",
          "data": {
            "text/html": [
              "<style scoped>\n",
              "  .ansiout {\n",
              "    display: block;\n",
              "    unicode-bidi: embed;\n",
              "    white-space: pre-wrap;\n",
              "    word-wrap: break-word;\n",
              "    word-break: break-all;\n",
              "    font-family: \"Source Code Pro\", \"Menlo\", monospace;;\n",
              "    font-size: 13px;\n",
              "    color: #555;\n",
              "    margin-left: 4px;\n",
              "    line-height: 19px;\n",
              "  }\n",
              "</style>\n",
              "<div class=\"ansiout\"></div>"
            ]
          },
          "metadata": {
            "tags": [],
            "application/vnd.databricks.v1+output": {
              "datasetInfos": [],
              "data": "<div class=\"ansiout\"></div>",
              "removedWidgets": [],
              "addedWidgets": {},
              "metadata": {},
              "type": "html",
              "arguments": {}
            }
          }
        }
      ]
    },
    {
      "cell_type": "code",
      "metadata": {
        "application/vnd.databricks.v1+cell": {
          "title": "",
          "showTitle": false,
          "inputWidgets": {},
          "nuid": "a372324b-e05b-4b66-b3e8-667495b48a10"
        },
        "id": "QT0AEKgG5Eet",
        "outputId": "23b27beb-3c06-4071-97cf-d9d0ceac070d"
      },
      "source": [
        "df.printSchema()"
      ],
      "execution_count": null,
      "outputs": [
        {
          "output_type": "display_data",
          "data": {
            "text/html": [
              "<style scoped>\n",
              "  .ansiout {\n",
              "    display: block;\n",
              "    unicode-bidi: embed;\n",
              "    white-space: pre-wrap;\n",
              "    word-wrap: break-word;\n",
              "    word-break: break-all;\n",
              "    font-family: \"Source Code Pro\", \"Menlo\", monospace;;\n",
              "    font-size: 13px;\n",
              "    color: #555;\n",
              "    margin-left: 4px;\n",
              "    line-height: 19px;\n",
              "  }\n",
              "</style>\n",
              "<div class=\"ansiout\">root\n",
              "-- total_bill: double (nullable = true)\n",
              "-- tip: double (nullable = true)\n",
              "-- sex: string (nullable = true)\n",
              "-- smoker: string (nullable = true)\n",
              "-- day: string (nullable = true)\n",
              "-- time: string (nullable = true)\n",
              "-- size: integer (nullable = true)\n",
              "\n",
              "</div>"
            ]
          },
          "metadata": {
            "tags": [],
            "application/vnd.databricks.v1+output": {
              "datasetInfos": [],
              "data": "<div class=\"ansiout\">root\n |-- total_bill: double (nullable = true)\n |-- tip: double (nullable = true)\n |-- sex: string (nullable = true)\n |-- smoker: string (nullable = true)\n |-- day: string (nullable = true)\n |-- time: string (nullable = true)\n |-- size: integer (nullable = true)\n\n</div>",
              "removedWidgets": [],
              "addedWidgets": {},
              "metadata": {},
              "type": "html",
              "arguments": {}
            }
          }
        }
      ]
    },
    {
      "cell_type": "code",
      "metadata": {
        "application/vnd.databricks.v1+cell": {
          "title": "",
          "showTitle": false,
          "inputWidgets": {},
          "nuid": "87ba522d-cec7-4444-9141-29de9eefc520"
        },
        "id": "E2tL1QMq5Eeu",
        "outputId": "845c2813-7a1e-43ba-b1b3-7f9b6b9c58d0"
      },
      "source": [
        "df.show()"
      ],
      "execution_count": null,
      "outputs": [
        {
          "output_type": "display_data",
          "data": {
            "text/html": [
              "<style scoped>\n",
              "  .ansiout {\n",
              "    display: block;\n",
              "    unicode-bidi: embed;\n",
              "    white-space: pre-wrap;\n",
              "    word-wrap: break-word;\n",
              "    word-break: break-all;\n",
              "    font-family: \"Source Code Pro\", \"Menlo\", monospace;;\n",
              "    font-size: 13px;\n",
              "    color: #555;\n",
              "    margin-left: 4px;\n",
              "    line-height: 19px;\n",
              "  }\n",
              "</style>\n",
              "<div class=\"ansiout\">+----------+----+------+------+---+------+----+\n",
              "total_bill| tip|   sex|smoker|day|  time|size|\n",
              "+----------+----+------+------+---+------+----+\n",
              "     16.99|1.01|Female|    No|Sun|Dinner|   2|\n",
              "     10.34|1.66|  Male|    No|Sun|Dinner|   3|\n",
              "     21.01| 3.5|  Male|    No|Sun|Dinner|   3|\n",
              "     23.68|3.31|  Male|    No|Sun|Dinner|   2|\n",
              "     24.59|3.61|Female|    No|Sun|Dinner|   4|\n",
              "     25.29|4.71|  Male|    No|Sun|Dinner|   4|\n",
              "      8.77| 2.0|  Male|    No|Sun|Dinner|   2|\n",
              "     26.88|3.12|  Male|    No|Sun|Dinner|   4|\n",
              "     15.04|1.96|  Male|    No|Sun|Dinner|   2|\n",
              "     14.78|3.23|  Male|    No|Sun|Dinner|   2|\n",
              "     10.27|1.71|  Male|    No|Sun|Dinner|   2|\n",
              "     35.26| 5.0|Female|    No|Sun|Dinner|   4|\n",
              "     15.42|1.57|  Male|    No|Sun|Dinner|   2|\n",
              "     18.43| 3.0|  Male|    No|Sun|Dinner|   4|\n",
              "     14.83|3.02|Female|    No|Sun|Dinner|   2|\n",
              "     21.58|3.92|  Male|    No|Sun|Dinner|   2|\n",
              "     10.33|1.67|Female|    No|Sun|Dinner|   3|\n",
              "     16.29|3.71|  Male|    No|Sun|Dinner|   3|\n",
              "     16.97| 3.5|Female|    No|Sun|Dinner|   3|\n",
              "     20.65|3.35|  Male|    No|Sat|Dinner|   3|\n",
              "+----------+----+------+------+---+------+----+\n",
              "only showing top 20 rows\n",
              "\n",
              "</div>"
            ]
          },
          "metadata": {
            "tags": [],
            "application/vnd.databricks.v1+output": {
              "datasetInfos": [],
              "data": "<div class=\"ansiout\">+----------+----+------+------+---+------+----+\n|total_bill| tip|   sex|smoker|day|  time|size|\n+----------+----+------+------+---+------+----+\n|     16.99|1.01|Female|    No|Sun|Dinner|   2|\n|     10.34|1.66|  Male|    No|Sun|Dinner|   3|\n|     21.01| 3.5|  Male|    No|Sun|Dinner|   3|\n|     23.68|3.31|  Male|    No|Sun|Dinner|   2|\n|     24.59|3.61|Female|    No|Sun|Dinner|   4|\n|     25.29|4.71|  Male|    No|Sun|Dinner|   4|\n|      8.77| 2.0|  Male|    No|Sun|Dinner|   2|\n|     26.88|3.12|  Male|    No|Sun|Dinner|   4|\n|     15.04|1.96|  Male|    No|Sun|Dinner|   2|\n|     14.78|3.23|  Male|    No|Sun|Dinner|   2|\n|     10.27|1.71|  Male|    No|Sun|Dinner|   2|\n|     35.26| 5.0|Female|    No|Sun|Dinner|   4|\n|     15.42|1.57|  Male|    No|Sun|Dinner|   2|\n|     18.43| 3.0|  Male|    No|Sun|Dinner|   4|\n|     14.83|3.02|Female|    No|Sun|Dinner|   2|\n|     21.58|3.92|  Male|    No|Sun|Dinner|   2|\n|     10.33|1.67|Female|    No|Sun|Dinner|   3|\n|     16.29|3.71|  Male|    No|Sun|Dinner|   3|\n|     16.97| 3.5|Female|    No|Sun|Dinner|   3|\n|     20.65|3.35|  Male|    No|Sat|Dinner|   3|\n+----------+----+------+------+---+------+----+\nonly showing top 20 rows\n\n</div>",
              "removedWidgets": [],
              "addedWidgets": {},
              "metadata": {},
              "type": "html",
              "arguments": {}
            }
          }
        }
      ]
    },
    {
      "cell_type": "code",
      "metadata": {
        "application/vnd.databricks.v1+cell": {
          "title": "",
          "showTitle": false,
          "inputWidgets": {},
          "nuid": "fd8ddcf4-04e0-41ed-a5f4-0318aeb932a7"
        },
        "id": "5QHOa9Gj5Eev",
        "outputId": "0a2d858f-079e-4bcc-fbfc-6189fb6adaa2"
      },
      "source": [
        "## Handling Categorical Feature\n",
        "from pyspark.ml.feature import StringIndexer"
      ],
      "execution_count": null,
      "outputs": [
        {
          "output_type": "display_data",
          "data": {
            "text/html": [
              "<style scoped>\n",
              "  .ansiout {\n",
              "    display: block;\n",
              "    unicode-bidi: embed;\n",
              "    white-space: pre-wrap;\n",
              "    word-wrap: break-word;\n",
              "    word-break: break-all;\n",
              "    font-family: \"Source Code Pro\", \"Menlo\", monospace;;\n",
              "    font-size: 13px;\n",
              "    color: #555;\n",
              "    margin-left: 4px;\n",
              "    line-height: 19px;\n",
              "  }\n",
              "</style>\n",
              "<div class=\"ansiout\"></div>"
            ]
          },
          "metadata": {
            "tags": [],
            "application/vnd.databricks.v1+output": {
              "datasetInfos": [],
              "data": "<div class=\"ansiout\"></div>",
              "removedWidgets": [],
              "addedWidgets": {},
              "metadata": {},
              "type": "html",
              "arguments": {}
            }
          }
        }
      ]
    },
    {
      "cell_type": "code",
      "metadata": {
        "application/vnd.databricks.v1+cell": {
          "title": "",
          "showTitle": false,
          "inputWidgets": {},
          "nuid": "2a099d6b-057c-4622-a0ef-c7f95c7e3955"
        },
        "id": "05LO-d_C5Ee1",
        "outputId": "929b665e-4803-4f40-8410-764abb581546"
      },
      "source": [
        "indexer = StringIndexer(inputCol='sex', outputCol='sex_indexed')\n",
        "df_r = indexer.fit(df).transform(df)\n",
        "df_r.show()"
      ],
      "execution_count": null,
      "outputs": [
        {
          "output_type": "display_data",
          "data": {
            "text/html": [
              "<style scoped>\n",
              "  .ansiout {\n",
              "    display: block;\n",
              "    unicode-bidi: embed;\n",
              "    white-space: pre-wrap;\n",
              "    word-wrap: break-word;\n",
              "    word-break: break-all;\n",
              "    font-family: \"Source Code Pro\", \"Menlo\", monospace;;\n",
              "    font-size: 13px;\n",
              "    color: #555;\n",
              "    margin-left: 4px;\n",
              "    line-height: 19px;\n",
              "  }\n",
              "</style>\n",
              "<div class=\"ansiout\">+----------+----+------+------+---+------+----+-----------+\n",
              "total_bill| tip|   sex|smoker|day|  time|size|sex_indexed|\n",
              "+----------+----+------+------+---+------+----+-----------+\n",
              "     16.99|1.01|Female|    No|Sun|Dinner|   2|        1.0|\n",
              "     10.34|1.66|  Male|    No|Sun|Dinner|   3|        0.0|\n",
              "     21.01| 3.5|  Male|    No|Sun|Dinner|   3|        0.0|\n",
              "     23.68|3.31|  Male|    No|Sun|Dinner|   2|        0.0|\n",
              "     24.59|3.61|Female|    No|Sun|Dinner|   4|        1.0|\n",
              "     25.29|4.71|  Male|    No|Sun|Dinner|   4|        0.0|\n",
              "      8.77| 2.0|  Male|    No|Sun|Dinner|   2|        0.0|\n",
              "     26.88|3.12|  Male|    No|Sun|Dinner|   4|        0.0|\n",
              "     15.04|1.96|  Male|    No|Sun|Dinner|   2|        0.0|\n",
              "     14.78|3.23|  Male|    No|Sun|Dinner|   2|        0.0|\n",
              "     10.27|1.71|  Male|    No|Sun|Dinner|   2|        0.0|\n",
              "     35.26| 5.0|Female|    No|Sun|Dinner|   4|        1.0|\n",
              "     15.42|1.57|  Male|    No|Sun|Dinner|   2|        0.0|\n",
              "     18.43| 3.0|  Male|    No|Sun|Dinner|   4|        0.0|\n",
              "     14.83|3.02|Female|    No|Sun|Dinner|   2|        1.0|\n",
              "     21.58|3.92|  Male|    No|Sun|Dinner|   2|        0.0|\n",
              "     10.33|1.67|Female|    No|Sun|Dinner|   3|        1.0|\n",
              "     16.29|3.71|  Male|    No|Sun|Dinner|   3|        0.0|\n",
              "     16.97| 3.5|Female|    No|Sun|Dinner|   3|        1.0|\n",
              "     20.65|3.35|  Male|    No|Sat|Dinner|   3|        0.0|\n",
              "+----------+----+------+------+---+------+----+-----------+\n",
              "only showing top 20 rows\n",
              "\n",
              "</div>"
            ]
          },
          "metadata": {
            "tags": [],
            "application/vnd.databricks.v1+output": {
              "datasetInfos": [],
              "data": "<div class=\"ansiout\">+----------+----+------+------+---+------+----+-----------+\n|total_bill| tip|   sex|smoker|day|  time|size|sex_indexed|\n+----------+----+------+------+---+------+----+-----------+\n|     16.99|1.01|Female|    No|Sun|Dinner|   2|        1.0|\n|     10.34|1.66|  Male|    No|Sun|Dinner|   3|        0.0|\n|     21.01| 3.5|  Male|    No|Sun|Dinner|   3|        0.0|\n|     23.68|3.31|  Male|    No|Sun|Dinner|   2|        0.0|\n|     24.59|3.61|Female|    No|Sun|Dinner|   4|        1.0|\n|     25.29|4.71|  Male|    No|Sun|Dinner|   4|        0.0|\n|      8.77| 2.0|  Male|    No|Sun|Dinner|   2|        0.0|\n|     26.88|3.12|  Male|    No|Sun|Dinner|   4|        0.0|\n|     15.04|1.96|  Male|    No|Sun|Dinner|   2|        0.0|\n|     14.78|3.23|  Male|    No|Sun|Dinner|   2|        0.0|\n|     10.27|1.71|  Male|    No|Sun|Dinner|   2|        0.0|\n|     35.26| 5.0|Female|    No|Sun|Dinner|   4|        1.0|\n|     15.42|1.57|  Male|    No|Sun|Dinner|   2|        0.0|\n|     18.43| 3.0|  Male|    No|Sun|Dinner|   4|        0.0|\n|     14.83|3.02|Female|    No|Sun|Dinner|   2|        1.0|\n|     21.58|3.92|  Male|    No|Sun|Dinner|   2|        0.0|\n|     10.33|1.67|Female|    No|Sun|Dinner|   3|        1.0|\n|     16.29|3.71|  Male|    No|Sun|Dinner|   3|        0.0|\n|     16.97| 3.5|Female|    No|Sun|Dinner|   3|        1.0|\n|     20.65|3.35|  Male|    No|Sat|Dinner|   3|        0.0|\n+----------+----+------+------+---+------+----+-----------+\nonly showing top 20 rows\n\n</div>",
              "removedWidgets": [],
              "addedWidgets": {},
              "metadata": {},
              "type": "html",
              "arguments": {}
            }
          }
        }
      ]
    },
    {
      "cell_type": "code",
      "metadata": {
        "application/vnd.databricks.v1+cell": {
          "title": "",
          "showTitle": false,
          "inputWidgets": {},
          "nuid": "ff54ef33-e095-440e-8d3d-fbfcb86ec0dd"
        },
        "id": "kUDiZXfm5Ee2",
        "outputId": "917a3e3b-8101-45ce-a3ec-3dcc231e2757"
      },
      "source": [
        "categorical_col = ['smoker', 'day', 'time']\n",
        "indexer = StringIndexer(inputCols=categorical_col, outputCols=[i+'_indexed' for i in categorical_col])\n",
        "df_r = indexer.fit(df_r).transform(df_r)\n",
        "df_r.show()"
      ],
      "execution_count": null,
      "outputs": [
        {
          "output_type": "display_data",
          "data": {
            "text/html": [
              "<style scoped>\n",
              "  .ansiout {\n",
              "    display: block;\n",
              "    unicode-bidi: embed;\n",
              "    white-space: pre-wrap;\n",
              "    word-wrap: break-word;\n",
              "    word-break: break-all;\n",
              "    font-family: \"Source Code Pro\", \"Menlo\", monospace;;\n",
              "    font-size: 13px;\n",
              "    color: #555;\n",
              "    margin-left: 4px;\n",
              "    line-height: 19px;\n",
              "  }\n",
              "</style>\n",
              "<div class=\"ansiout\">+----------+----+------+------+---+------+----+-----------+--------------+-----------+------------+\n",
              "total_bill| tip|   sex|smoker|day|  time|size|sex_indexed|smoker_indexed|day_indexed|time_indexed|\n",
              "+----------+----+------+------+---+------+----+-----------+--------------+-----------+------------+\n",
              "     16.99|1.01|Female|    No|Sun|Dinner|   2|        1.0|           0.0|        1.0|         0.0|\n",
              "     10.34|1.66|  Male|    No|Sun|Dinner|   3|        0.0|           0.0|        1.0|         0.0|\n",
              "     21.01| 3.5|  Male|    No|Sun|Dinner|   3|        0.0|           0.0|        1.0|         0.0|\n",
              "     23.68|3.31|  Male|    No|Sun|Dinner|   2|        0.0|           0.0|        1.0|         0.0|\n",
              "     24.59|3.61|Female|    No|Sun|Dinner|   4|        1.0|           0.0|        1.0|         0.0|\n",
              "     25.29|4.71|  Male|    No|Sun|Dinner|   4|        0.0|           0.0|        1.0|         0.0|\n",
              "      8.77| 2.0|  Male|    No|Sun|Dinner|   2|        0.0|           0.0|        1.0|         0.0|\n",
              "     26.88|3.12|  Male|    No|Sun|Dinner|   4|        0.0|           0.0|        1.0|         0.0|\n",
              "     15.04|1.96|  Male|    No|Sun|Dinner|   2|        0.0|           0.0|        1.0|         0.0|\n",
              "     14.78|3.23|  Male|    No|Sun|Dinner|   2|        0.0|           0.0|        1.0|         0.0|\n",
              "     10.27|1.71|  Male|    No|Sun|Dinner|   2|        0.0|           0.0|        1.0|         0.0|\n",
              "     35.26| 5.0|Female|    No|Sun|Dinner|   4|        1.0|           0.0|        1.0|         0.0|\n",
              "     15.42|1.57|  Male|    No|Sun|Dinner|   2|        0.0|           0.0|        1.0|         0.0|\n",
              "     18.43| 3.0|  Male|    No|Sun|Dinner|   4|        0.0|           0.0|        1.0|         0.0|\n",
              "     14.83|3.02|Female|    No|Sun|Dinner|   2|        1.0|           0.0|        1.0|         0.0|\n",
              "     21.58|3.92|  Male|    No|Sun|Dinner|   2|        0.0|           0.0|        1.0|         0.0|\n",
              "     10.33|1.67|Female|    No|Sun|Dinner|   3|        1.0|           0.0|        1.0|         0.0|\n",
              "     16.29|3.71|  Male|    No|Sun|Dinner|   3|        0.0|           0.0|        1.0|         0.0|\n",
              "     16.97| 3.5|Female|    No|Sun|Dinner|   3|        1.0|           0.0|        1.0|         0.0|\n",
              "     20.65|3.35|  Male|    No|Sat|Dinner|   3|        0.0|           0.0|        0.0|         0.0|\n",
              "+----------+----+------+------+---+------+----+-----------+--------------+-----------+------------+\n",
              "only showing top 20 rows\n",
              "\n",
              "</div>"
            ]
          },
          "metadata": {
            "tags": [],
            "application/vnd.databricks.v1+output": {
              "datasetInfos": [],
              "data": "<div class=\"ansiout\">+----------+----+------+------+---+------+----+-----------+--------------+-----------+------------+\n|total_bill| tip|   sex|smoker|day|  time|size|sex_indexed|smoker_indexed|day_indexed|time_indexed|\n+----------+----+------+------+---+------+----+-----------+--------------+-----------+------------+\n|     16.99|1.01|Female|    No|Sun|Dinner|   2|        1.0|           0.0|        1.0|         0.0|\n|     10.34|1.66|  Male|    No|Sun|Dinner|   3|        0.0|           0.0|        1.0|         0.0|\n|     21.01| 3.5|  Male|    No|Sun|Dinner|   3|        0.0|           0.0|        1.0|         0.0|\n|     23.68|3.31|  Male|    No|Sun|Dinner|   2|        0.0|           0.0|        1.0|         0.0|\n|     24.59|3.61|Female|    No|Sun|Dinner|   4|        1.0|           0.0|        1.0|         0.0|\n|     25.29|4.71|  Male|    No|Sun|Dinner|   4|        0.0|           0.0|        1.0|         0.0|\n|      8.77| 2.0|  Male|    No|Sun|Dinner|   2|        0.0|           0.0|        1.0|         0.0|\n|     26.88|3.12|  Male|    No|Sun|Dinner|   4|        0.0|           0.0|        1.0|         0.0|\n|     15.04|1.96|  Male|    No|Sun|Dinner|   2|        0.0|           0.0|        1.0|         0.0|\n|     14.78|3.23|  Male|    No|Sun|Dinner|   2|        0.0|           0.0|        1.0|         0.0|\n|     10.27|1.71|  Male|    No|Sun|Dinner|   2|        0.0|           0.0|        1.0|         0.0|\n|     35.26| 5.0|Female|    No|Sun|Dinner|   4|        1.0|           0.0|        1.0|         0.0|\n|     15.42|1.57|  Male|    No|Sun|Dinner|   2|        0.0|           0.0|        1.0|         0.0|\n|     18.43| 3.0|  Male|    No|Sun|Dinner|   4|        0.0|           0.0|        1.0|         0.0|\n|     14.83|3.02|Female|    No|Sun|Dinner|   2|        1.0|           0.0|        1.0|         0.0|\n|     21.58|3.92|  Male|    No|Sun|Dinner|   2|        0.0|           0.0|        1.0|         0.0|\n|     10.33|1.67|Female|    No|Sun|Dinner|   3|        1.0|           0.0|        1.0|         0.0|\n|     16.29|3.71|  Male|    No|Sun|Dinner|   3|        0.0|           0.0|        1.0|         0.0|\n|     16.97| 3.5|Female|    No|Sun|Dinner|   3|        1.0|           0.0|        1.0|         0.0|\n|     20.65|3.35|  Male|    No|Sat|Dinner|   3|        0.0|           0.0|        0.0|         0.0|\n+----------+----+------+------+---+------+----+-----------+--------------+-----------+------------+\nonly showing top 20 rows\n\n</div>",
              "removedWidgets": [],
              "addedWidgets": {},
              "metadata": {},
              "type": "html",
              "arguments": {}
            }
          }
        }
      ]
    },
    {
      "cell_type": "code",
      "metadata": {
        "application/vnd.databricks.v1+cell": {
          "title": "",
          "showTitle": false,
          "inputWidgets": {},
          "nuid": "1e923a9b-5520-404a-bb0a-463d7256fd48"
        },
        "id": "kYqKJyEm5Ee3",
        "outputId": "1c04e801-19f2-4daf-ab97-35a427698227"
      },
      "source": [
        "df_r.columns"
      ],
      "execution_count": null,
      "outputs": [
        {
          "output_type": "display_data",
          "data": {
            "text/html": [
              "<style scoped>\n",
              "  .ansiout {\n",
              "    display: block;\n",
              "    unicode-bidi: embed;\n",
              "    white-space: pre-wrap;\n",
              "    word-wrap: break-word;\n",
              "    word-break: break-all;\n",
              "    font-family: \"Source Code Pro\", \"Menlo\", monospace;;\n",
              "    font-size: 13px;\n",
              "    color: #555;\n",
              "    margin-left: 4px;\n",
              "    line-height: 19px;\n",
              "  }\n",
              "</style>\n",
              "<div class=\"ansiout\">Out[17]: [&#39;total_bill&#39;,\n",
              " &#39;tip&#39;,\n",
              " &#39;sex&#39;,\n",
              " &#39;smoker&#39;,\n",
              " &#39;day&#39;,\n",
              " &#39;time&#39;,\n",
              " &#39;size&#39;,\n",
              " &#39;sex_indexed&#39;,\n",
              " &#39;smoker_indexed&#39;,\n",
              " &#39;day_indexed&#39;,\n",
              " &#39;time_indexed&#39;]</div>"
            ]
          },
          "metadata": {
            "tags": [],
            "application/vnd.databricks.v1+output": {
              "datasetInfos": [],
              "data": "<div class=\"ansiout\">Out[17]: [&#39;total_bill&#39;,\n &#39;tip&#39;,\n &#39;sex&#39;,\n &#39;smoker&#39;,\n &#39;day&#39;,\n &#39;time&#39;,\n &#39;size&#39;,\n &#39;sex_indexed&#39;,\n &#39;smoker_indexed&#39;,\n &#39;day_indexed&#39;,\n &#39;time_indexed&#39;]</div>",
              "removedWidgets": [],
              "addedWidgets": {},
              "metadata": {},
              "type": "html",
              "arguments": {}
            }
          }
        }
      ]
    },
    {
      "cell_type": "code",
      "metadata": {
        "application/vnd.databricks.v1+cell": {
          "title": "",
          "showTitle": false,
          "inputWidgets": {},
          "nuid": "0b3e5d39-65a2-4ed0-abc7-71112b2b615d"
        },
        "id": "8tXKs8Sc5Ee4",
        "outputId": "4173729e-588e-4e23-a477-7c5c58505b14"
      },
      "source": [
        "from pyspark.ml.feature import VectorAssembler\n",
        "featureassembler = VectorAssembler(inputCols=['tip', 'size', 'sex_indexed', 'smoker_indexed', 'day_indexed', 'time_indexed'],\n",
        "               outputCol=\"Features\")\n",
        "output = featureassembler.transform(df_r)"
      ],
      "execution_count": null,
      "outputs": [
        {
          "output_type": "display_data",
          "data": {
            "text/html": [
              "<style scoped>\n",
              "  .ansiout {\n",
              "    display: block;\n",
              "    unicode-bidi: embed;\n",
              "    white-space: pre-wrap;\n",
              "    word-wrap: break-word;\n",
              "    word-break: break-all;\n",
              "    font-family: \"Source Code Pro\", \"Menlo\", monospace;;\n",
              "    font-size: 13px;\n",
              "    color: #555;\n",
              "    margin-left: 4px;\n",
              "    line-height: 19px;\n",
              "  }\n",
              "</style>\n",
              "<div class=\"ansiout\"></div>"
            ]
          },
          "metadata": {
            "tags": [],
            "application/vnd.databricks.v1+output": {
              "datasetInfos": [],
              "data": "<div class=\"ansiout\"></div>",
              "removedWidgets": [],
              "addedWidgets": {},
              "metadata": {},
              "type": "html",
              "arguments": {}
            }
          }
        }
      ]
    },
    {
      "cell_type": "code",
      "metadata": {
        "application/vnd.databricks.v1+cell": {
          "title": "",
          "showTitle": false,
          "inputWidgets": {},
          "nuid": "dd43cc93-ab0d-4548-9456-96a4d88219c7"
        },
        "id": "V7E2-XIv5Ee5",
        "outputId": "de53bc26-1c99-4bdb-f329-90d890ea365e"
      },
      "source": [
        "output.select('Features').show()"
      ],
      "execution_count": null,
      "outputs": [
        {
          "output_type": "display_data",
          "data": {
            "text/html": [
              "<style scoped>\n",
              "  .ansiout {\n",
              "    display: block;\n",
              "    unicode-bidi: embed;\n",
              "    white-space: pre-wrap;\n",
              "    word-wrap: break-word;\n",
              "    word-break: break-all;\n",
              "    font-family: \"Source Code Pro\", \"Menlo\", monospace;;\n",
              "    font-size: 13px;\n",
              "    color: #555;\n",
              "    margin-left: 4px;\n",
              "    line-height: 19px;\n",
              "  }\n",
              "</style>\n",
              "<div class=\"ansiout\">+--------------------+\n",
              "            Features|\n",
              "+--------------------+\n",
              "[1.01,2.0,1.0,0.0...|\n",
              "[1.66,3.0,0.0,0.0...|\n",
              "[3.5,3.0,0.0,0.0,...|\n",
              "[3.31,2.0,0.0,0.0...|\n",
              "[3.61,4.0,1.0,0.0...|\n",
              "[4.71,4.0,0.0,0.0...|\n",
              "[2.0,2.0,0.0,0.0,...|\n",
              "[3.12,4.0,0.0,0.0...|\n",
              "[1.96,2.0,0.0,0.0...|\n",
              "[3.23,2.0,0.0,0.0...|\n",
              "[1.71,2.0,0.0,0.0...|\n",
              "[5.0,4.0,1.0,0.0,...|\n",
              "[1.57,2.0,0.0,0.0...|\n",
              "[3.0,4.0,0.0,0.0,...|\n",
              "[3.02,2.0,1.0,0.0...|\n",
              "[3.92,2.0,0.0,0.0...|\n",
              "[1.67,3.0,1.0,0.0...|\n",
              "[3.71,3.0,0.0,0.0...|\n",
              "[3.5,3.0,1.0,0.0,...|\n",
              "(6,[0,1],[3.35,3.0])|\n",
              "+--------------------+\n",
              "only showing top 20 rows\n",
              "\n",
              "</div>"
            ]
          },
          "metadata": {
            "tags": [],
            "application/vnd.databricks.v1+output": {
              "datasetInfos": [],
              "data": "<div class=\"ansiout\">+--------------------+\n|            Features|\n+--------------------+\n|[1.01,2.0,1.0,0.0...|\n|[1.66,3.0,0.0,0.0...|\n|[3.5,3.0,0.0,0.0,...|\n|[3.31,2.0,0.0,0.0...|\n|[3.61,4.0,1.0,0.0...|\n|[4.71,4.0,0.0,0.0...|\n|[2.0,2.0,0.0,0.0,...|\n|[3.12,4.0,0.0,0.0...|\n|[1.96,2.0,0.0,0.0...|\n|[3.23,2.0,0.0,0.0...|\n|[1.71,2.0,0.0,0.0...|\n|[5.0,4.0,1.0,0.0,...|\n|[1.57,2.0,0.0,0.0...|\n|[3.0,4.0,0.0,0.0,...|\n|[3.02,2.0,1.0,0.0...|\n|[3.92,2.0,0.0,0.0...|\n|[1.67,3.0,1.0,0.0...|\n|[3.71,3.0,0.0,0.0...|\n|[3.5,3.0,1.0,0.0,...|\n|(6,[0,1],[3.35,3.0])|\n+--------------------+\nonly showing top 20 rows\n\n</div>",
              "removedWidgets": [],
              "addedWidgets": {},
              "metadata": {},
              "type": "html",
              "arguments": {}
            }
          }
        }
      ]
    },
    {
      "cell_type": "code",
      "metadata": {
        "application/vnd.databricks.v1+cell": {
          "title": "",
          "showTitle": false,
          "inputWidgets": {},
          "nuid": "3b801d14-1b7b-4c63-b4e0-743b0b67269e"
        },
        "id": "63OxjvMp5Ee6",
        "outputId": "93fafbb6-d752-4a38-aaaa-aeb94f1be029"
      },
      "source": [
        "finalized_data = output.select('Features', 'total_bill')\n",
        "finalized_data.show()"
      ],
      "execution_count": null,
      "outputs": [
        {
          "output_type": "display_data",
          "data": {
            "text/html": [
              "<style scoped>\n",
              "  .ansiout {\n",
              "    display: block;\n",
              "    unicode-bidi: embed;\n",
              "    white-space: pre-wrap;\n",
              "    word-wrap: break-word;\n",
              "    word-break: break-all;\n",
              "    font-family: \"Source Code Pro\", \"Menlo\", monospace;;\n",
              "    font-size: 13px;\n",
              "    color: #555;\n",
              "    margin-left: 4px;\n",
              "    line-height: 19px;\n",
              "  }\n",
              "</style>\n",
              "<div class=\"ansiout\">+--------------------+----------+\n",
              "            Features|total_bill|\n",
              "+--------------------+----------+\n",
              "[1.01,2.0,1.0,0.0...|     16.99|\n",
              "[1.66,3.0,0.0,0.0...|     10.34|\n",
              "[3.5,3.0,0.0,0.0,...|     21.01|\n",
              "[3.31,2.0,0.0,0.0...|     23.68|\n",
              "[3.61,4.0,1.0,0.0...|     24.59|\n",
              "[4.71,4.0,0.0,0.0...|     25.29|\n",
              "[2.0,2.0,0.0,0.0,...|      8.77|\n",
              "[3.12,4.0,0.0,0.0...|     26.88|\n",
              "[1.96,2.0,0.0,0.0...|     15.04|\n",
              "[3.23,2.0,0.0,0.0...|     14.78|\n",
              "[1.71,2.0,0.0,0.0...|     10.27|\n",
              "[5.0,4.0,1.0,0.0,...|     35.26|\n",
              "[1.57,2.0,0.0,0.0...|     15.42|\n",
              "[3.0,4.0,0.0,0.0,...|     18.43|\n",
              "[3.02,2.0,1.0,0.0...|     14.83|\n",
              "[3.92,2.0,0.0,0.0...|     21.58|\n",
              "[1.67,3.0,1.0,0.0...|     10.33|\n",
              "[3.71,3.0,0.0,0.0...|     16.29|\n",
              "[3.5,3.0,1.0,0.0,...|     16.97|\n",
              "(6,[0,1],[3.35,3.0])|     20.65|\n",
              "+--------------------+----------+\n",
              "only showing top 20 rows\n",
              "\n",
              "</div>"
            ]
          },
          "metadata": {
            "tags": [],
            "application/vnd.databricks.v1+output": {
              "datasetInfos": [],
              "data": "<div class=\"ansiout\">+--------------------+----------+\n|            Features|total_bill|\n+--------------------+----------+\n|[1.01,2.0,1.0,0.0...|     16.99|\n|[1.66,3.0,0.0,0.0...|     10.34|\n|[3.5,3.0,0.0,0.0,...|     21.01|\n|[3.31,2.0,0.0,0.0...|     23.68|\n|[3.61,4.0,1.0,0.0...|     24.59|\n|[4.71,4.0,0.0,0.0...|     25.29|\n|[2.0,2.0,0.0,0.0,...|      8.77|\n|[3.12,4.0,0.0,0.0...|     26.88|\n|[1.96,2.0,0.0,0.0...|     15.04|\n|[3.23,2.0,0.0,0.0...|     14.78|\n|[1.71,2.0,0.0,0.0...|     10.27|\n|[5.0,4.0,1.0,0.0,...|     35.26|\n|[1.57,2.0,0.0,0.0...|     15.42|\n|[3.0,4.0,0.0,0.0,...|     18.43|\n|[3.02,2.0,1.0,0.0...|     14.83|\n|[3.92,2.0,0.0,0.0...|     21.58|\n|[1.67,3.0,1.0,0.0...|     10.33|\n|[3.71,3.0,0.0,0.0...|     16.29|\n|[3.5,3.0,1.0,0.0,...|     16.97|\n|(6,[0,1],[3.35,3.0])|     20.65|\n+--------------------+----------+\nonly showing top 20 rows\n\n</div>",
              "removedWidgets": [],
              "addedWidgets": {},
              "metadata": {},
              "type": "html",
              "arguments": {}
            }
          }
        }
      ]
    },
    {
      "cell_type": "code",
      "metadata": {
        "application/vnd.databricks.v1+cell": {
          "title": "",
          "showTitle": false,
          "inputWidgets": {},
          "nuid": "2907116a-155a-4d8f-81a0-09bac492d59f"
        },
        "id": "apcTi3dJ5Ee7",
        "outputId": "4c4edbb5-c2ec-4c3e-b4d5-dc2a3c6ffe3e"
      },
      "source": [
        "from pyspark.ml.regression import LinearRegression\n",
        "\n",
        "## Train Test Split\n",
        "train_data, test_data = finalized_data.randomSplit([0.75, 0.25])\n",
        "\n",
        "# Training\n",
        "regressor = LinearRegression(featuresCol='Features', labelCol='total_bill')\n",
        "regressor = regressor.fit(train_data)"
      ],
      "execution_count": null,
      "outputs": [
        {
          "output_type": "display_data",
          "data": {
            "text/html": [
              "<style scoped>\n",
              "  .ansiout {\n",
              "    display: block;\n",
              "    unicode-bidi: embed;\n",
              "    white-space: pre-wrap;\n",
              "    word-wrap: break-word;\n",
              "    word-break: break-all;\n",
              "    font-family: \"Source Code Pro\", \"Menlo\", monospace;;\n",
              "    font-size: 13px;\n",
              "    color: #555;\n",
              "    margin-left: 4px;\n",
              "    line-height: 19px;\n",
              "  }\n",
              "</style>\n",
              "<div class=\"ansiout\"></div>"
            ]
          },
          "metadata": {
            "tags": [],
            "application/vnd.databricks.v1+output": {
              "datasetInfos": [],
              "data": "<div class=\"ansiout\"></div>",
              "removedWidgets": [],
              "addedWidgets": {},
              "metadata": {},
              "type": "html",
              "arguments": {}
            }
          }
        }
      ]
    },
    {
      "cell_type": "code",
      "metadata": {
        "application/vnd.databricks.v1+cell": {
          "title": "",
          "showTitle": false,
          "inputWidgets": {},
          "nuid": "069e82d1-7bf2-4ffd-b98c-f17af7397252"
        },
        "id": "YZ3eXXX35Ee7",
        "outputId": "6564da99-6956-46eb-a12c-0fec762e577d"
      },
      "source": [
        "regressor.coefficients"
      ],
      "execution_count": null,
      "outputs": [
        {
          "output_type": "display_data",
          "data": {
            "text/html": [
              "<style scoped>\n",
              "  .ansiout {\n",
              "    display: block;\n",
              "    unicode-bidi: embed;\n",
              "    white-space: pre-wrap;\n",
              "    word-wrap: break-word;\n",
              "    word-break: break-all;\n",
              "    font-family: \"Source Code Pro\", \"Menlo\", monospace;;\n",
              "    font-size: 13px;\n",
              "    color: #555;\n",
              "    margin-left: 4px;\n",
              "    line-height: 19px;\n",
              "  }\n",
              "</style>\n",
              "<div class=\"ansiout\">Out[24]: DenseVector([2.8311, 3.3479, -1.4721, 1.8085, -0.5045, -0.684])</div>"
            ]
          },
          "metadata": {
            "tags": [],
            "application/vnd.databricks.v1+output": {
              "datasetInfos": [],
              "data": "<div class=\"ansiout\">Out[24]: DenseVector([2.8311, 3.3479, -1.4721, 1.8085, -0.5045, -0.684])</div>",
              "removedWidgets": [],
              "addedWidgets": {},
              "metadata": {},
              "type": "html",
              "arguments": {}
            }
          }
        }
      ]
    },
    {
      "cell_type": "code",
      "metadata": {
        "application/vnd.databricks.v1+cell": {
          "title": "",
          "showTitle": false,
          "inputWidgets": {},
          "nuid": "fa8d4715-5310-461a-9d9a-75c09b4db7be"
        },
        "id": "15oK44Ci5Ee8",
        "outputId": "f7f1ea3d-dfa1-4e3d-f547-2d324be305c1"
      },
      "source": [
        "regressor.intercept"
      ],
      "execution_count": null,
      "outputs": [
        {
          "output_type": "display_data",
          "data": {
            "text/html": [
              "<style scoped>\n",
              "  .ansiout {\n",
              "    display: block;\n",
              "    unicode-bidi: embed;\n",
              "    white-space: pre-wrap;\n",
              "    word-wrap: break-word;\n",
              "    word-break: break-all;\n",
              "    font-family: \"Source Code Pro\", \"Menlo\", monospace;;\n",
              "    font-size: 13px;\n",
              "    color: #555;\n",
              "    margin-left: 4px;\n",
              "    line-height: 19px;\n",
              "  }\n",
              "</style>\n",
              "<div class=\"ansiout\">Out[25]: 2.9885758527426427</div>"
            ]
          },
          "metadata": {
            "tags": [],
            "application/vnd.databricks.v1+output": {
              "datasetInfos": [],
              "data": "<div class=\"ansiout\">Out[25]: 2.9885758527426427</div>",
              "removedWidgets": [],
              "addedWidgets": {},
              "metadata": {},
              "type": "html",
              "arguments": {}
            }
          }
        }
      ]
    },
    {
      "cell_type": "code",
      "metadata": {
        "application/vnd.databricks.v1+cell": {
          "title": "",
          "showTitle": false,
          "inputWidgets": {},
          "nuid": "2465b1e3-cfe4-4ec9-8d60-101bd32c4d30"
        },
        "id": "PQoqD7_Y5Ee9",
        "outputId": "56f285c5-f864-46bf-fd85-3c6986871e41"
      },
      "source": [
        "## Final Comparison\n",
        "pred_result = regressor.evaluate(test_data)\n",
        "pred_result.predictions.show()"
      ],
      "execution_count": null,
      "outputs": [
        {
          "output_type": "display_data",
          "data": {
            "text/html": [
              "<style scoped>\n",
              "  .ansiout {\n",
              "    display: block;\n",
              "    unicode-bidi: embed;\n",
              "    white-space: pre-wrap;\n",
              "    word-wrap: break-word;\n",
              "    word-break: break-all;\n",
              "    font-family: \"Source Code Pro\", \"Menlo\", monospace;;\n",
              "    font-size: 13px;\n",
              "    color: #555;\n",
              "    margin-left: 4px;\n",
              "    line-height: 19px;\n",
              "  }\n",
              "</style>\n",
              "<div class=\"ansiout\">+--------------------+----------+------------------+\n",
              "            Features|total_bill|        prediction|\n",
              "+--------------------+----------+------------------+\n",
              "(6,[0,1],[1.97,2.0])|     12.02|15.261663893507336|\n",
              "(6,[0,1],[2.24,3.0])|     16.04| 19.37393974901158|\n",
              " (6,[0,1],[3.0,4.0])|     20.45|24.873476304921795|\n",
              "(6,[0,1],[3.35,3.0])|     20.65| 22.51650990707409|\n",
              " (6,[0,1],[4.3,2.0])|      21.7| 21.85823008115207|\n",
              " (6,[0,1],[9.0,4.0])|     48.33|41.860342024178614|\n",
              "[1.0,1.0,1.0,1.0,...|      3.07| 9.504015444376517|\n",
              "[1.01,2.0,1.0,0.0...|     16.99|10.567227172695768|\n",
              "[1.32,2.0,0.0,0.0...|      9.68|12.916940160445353|\n",
              "[1.5,2.0,0.0,0.0,...|     12.46|12.417586238404734|\n",
              "[1.5,2.0,0.0,1.0,...|     12.03|14.226072904279434|\n",
              "[1.5,2.0,1.0,0.0,...|     10.65| 10.76605332942372|\n",
              "[1.61,2.0,1.0,1.0...|     10.59|14.578880357305312|\n",
              "[1.63,2.0,1.0,0.0...|     11.87|11.134102086674286|\n",
              "[1.76,2.0,0.0,1.0...|     11.24|16.475610259208047|\n",
              "[1.96,2.0,0.0,0.0...|     15.04|14.728872503832747|\n",
              "[2.0,2.0,0.0,0.0,...|      7.51|13.653683731616436|\n",
              "[2.0,2.0,0.0,1.0,...|     10.34|15.462170397491136|\n",
              "[2.0,2.0,1.0,0.0,...|     12.26| 12.18162547269512|\n",
              "[2.0,2.0,1.0,1.0,...|     27.18|15.683026629057004|\n",
              "+--------------------+----------+------------------+\n",
              "only showing top 20 rows\n",
              "\n",
              "</div>"
            ]
          },
          "metadata": {
            "tags": [],
            "application/vnd.databricks.v1+output": {
              "datasetInfos": [],
              "data": "<div class=\"ansiout\">+--------------------+----------+------------------+\n|            Features|total_bill|        prediction|\n+--------------------+----------+------------------+\n|(6,[0,1],[1.97,2.0])|     12.02|15.261663893507336|\n|(6,[0,1],[2.24,3.0])|     16.04| 19.37393974901158|\n| (6,[0,1],[3.0,4.0])|     20.45|24.873476304921795|\n|(6,[0,1],[3.35,3.0])|     20.65| 22.51650990707409|\n| (6,[0,1],[4.3,2.0])|      21.7| 21.85823008115207|\n| (6,[0,1],[9.0,4.0])|     48.33|41.860342024178614|\n|[1.0,1.0,1.0,1.0,...|      3.07| 9.504015444376517|\n|[1.01,2.0,1.0,0.0...|     16.99|10.567227172695768|\n|[1.32,2.0,0.0,0.0...|      9.68|12.916940160445353|\n|[1.5,2.0,0.0,0.0,...|     12.46|12.417586238404734|\n|[1.5,2.0,0.0,1.0,...|     12.03|14.226072904279434|\n|[1.5,2.0,1.0,0.0,...|     10.65| 10.76605332942372|\n|[1.61,2.0,1.0,1.0...|     10.59|14.578880357305312|\n|[1.63,2.0,1.0,0.0...|     11.87|11.134102086674286|\n|[1.76,2.0,0.0,1.0...|     11.24|16.475610259208047|\n|[1.96,2.0,0.0,0.0...|     15.04|14.728872503832747|\n|[2.0,2.0,0.0,0.0,...|      7.51|13.653683731616436|\n|[2.0,2.0,0.0,1.0,...|     10.34|15.462170397491136|\n|[2.0,2.0,1.0,0.0,...|     12.26| 12.18162547269512|\n|[2.0,2.0,1.0,1.0,...|     27.18|15.683026629057004|\n+--------------------+----------+------------------+\nonly showing top 20 rows\n\n</div>",
              "removedWidgets": [],
              "addedWidgets": {},
              "metadata": {},
              "type": "html",
              "arguments": {}
            }
          }
        }
      ]
    },
    {
      "cell_type": "code",
      "metadata": {
        "application/vnd.databricks.v1+cell": {
          "title": "",
          "showTitle": false,
          "inputWidgets": {},
          "nuid": "d1759ef3-d583-4754-98da-b6df8dfda3d3"
        },
        "id": "8PCS2S5p5Ee-",
        "outputId": "de40a81d-88ca-4845-ee40-246b3494d4ea"
      },
      "source": [
        "## Peformance Metrics\n",
        "pred_result.r2, pred_result.meanAbsoluteError, pred_result.meanSquaredError"
      ],
      "execution_count": null,
      "outputs": [
        {
          "output_type": "display_data",
          "data": {
            "text/html": [
              "<style scoped>\n",
              "  .ansiout {\n",
              "    display: block;\n",
              "    unicode-bidi: embed;\n",
              "    white-space: pre-wrap;\n",
              "    word-wrap: break-word;\n",
              "    word-break: break-all;\n",
              "    font-family: \"Source Code Pro\", \"Menlo\", monospace;;\n",
              "    font-size: 13px;\n",
              "    color: #555;\n",
              "    margin-left: 4px;\n",
              "    line-height: 19px;\n",
              "  }\n",
              "</style>\n",
              "<div class=\"ansiout\">Out[31]: (0.6335421851363021, 4.26910426341876, 31.249030171977267)</div>"
            ]
          },
          "metadata": {
            "tags": [],
            "application/vnd.databricks.v1+output": {
              "datasetInfos": [],
              "data": "<div class=\"ansiout\">Out[31]: (0.6335421851363021, 4.26910426341876, 31.249030171977267)</div>",
              "removedWidgets": [],
              "addedWidgets": {},
              "metadata": {},
              "type": "html",
              "arguments": {}
            }
          }
        }
      ]
    }
  ]
}