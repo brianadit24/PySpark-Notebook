{
  "nbformat": 4,
  "nbformat_minor": 0,
  "metadata": {
    "colab": {
      "name": "Spark End to End Machine Learning.ipynb",
      "provenance": [],
      "collapsed_sections": [],
      "toc_visible": true,
      "authorship_tag": "ABX9TyPhQ6oY3bdaCeHSUEKQznID",
      "include_colab_link": true
    },
    "kernelspec": {
      "name": "python3",
      "display_name": "Python 3"
    },
    "language_info": {
      "name": "python"
    }
  },
  "cells": [
    {
      "cell_type": "markdown",
      "metadata": {
        "id": "view-in-github",
        "colab_type": "text"
      },
      "source": [
        "<a href=\"https://colab.research.google.com/github/brianadit24/PySpark-Try/blob/main/Spark_End_to_End_Machine_Learning.ipynb\" target=\"_parent\"><img src=\"https://colab.research.google.com/assets/colab-badge.svg\" alt=\"Open In Colab\"/></a>"
      ]
    },
    {
      "cell_type": "code",
      "metadata": {
        "colab": {
          "base_uri": "https://localhost:8080/"
        },
        "id": "WV7hwC8JamYm",
        "outputId": "7dddcf64-d917-4876-afdb-24c75dca53f4"
      },
      "source": [
        "!pip install pyspark"
      ],
      "execution_count": 1,
      "outputs": [
        {
          "output_type": "stream",
          "text": [
            "Collecting pyspark\n",
            "  Downloading pyspark-3.1.2.tar.gz (212.4 MB)\n",
            "\u001b[K     |████████████████████████████████| 212.4 MB 66 kB/s \n",
            "\u001b[?25hCollecting py4j==0.10.9\n",
            "  Downloading py4j-0.10.9-py2.py3-none-any.whl (198 kB)\n",
            "\u001b[K     |████████████████████████████████| 198 kB 65.8 MB/s \n",
            "\u001b[?25hBuilding wheels for collected packages: pyspark\n",
            "  Building wheel for pyspark (setup.py) ... \u001b[?25l\u001b[?25hdone\n",
            "  Created wheel for pyspark: filename=pyspark-3.1.2-py2.py3-none-any.whl size=212880768 sha256=ddc8db04ab245601e221f0a844f625404d18254021afe3407675e83b10ad9f95\n",
            "  Stored in directory: /root/.cache/pip/wheels/a5/0a/c1/9561f6fecb759579a7d863dcd846daaa95f598744e71b02c77\n",
            "Successfully built pyspark\n",
            "Installing collected packages: py4j, pyspark\n",
            "Successfully installed py4j-0.10.9 pyspark-3.1.2\n"
          ],
          "name": "stdout"
        }
      ]
    },
    {
      "cell_type": "code",
      "metadata": {
        "id": "PMdEwOeyao_Y"
      },
      "source": [
        "from pyspark.sql import SparkSession\n",
        "spark = SparkSession.builder.appName('MLApp').getOrCreate()"
      ],
      "execution_count": 2,
      "outputs": []
    },
    {
      "cell_type": "code",
      "metadata": {
        "colab": {
          "base_uri": "https://localhost:8080/"
        },
        "id": "7KVzXNefUzOY",
        "outputId": "8c7fbbb0-42e3-4974-9c3d-9daae00d74d7"
      },
      "source": [
        "# File location and type\n",
        "file_location = \"/content/WA_Fn-UseC_-Telco-Customer-Churn.csv\"\n",
        "file_type = \"csv\"\n",
        "\n",
        "# CSV options\n",
        "infer_schema = \"true\"\n",
        "first_row_is_header = \"true\"\n",
        "delimiter = \",\"\n",
        "\n",
        "# The applied options are for CSV files. For other file types, these will be ignored.\n",
        "df = spark.read.format(file_type) \\\n",
        "  .option(\"inferSchema\", infer_schema) \\\n",
        "  .option(\"header\", first_row_is_header) \\\n",
        "  .option(\"sep\", delimiter) \\\n",
        "  .option('nanValue', ' ') \\\n",
        "  .option('nullValue', ' ') \\\n",
        "  .load(file_location)\n",
        "\n",
        "df.show()"
      ],
      "execution_count": 4,
      "outputs": [
        {
          "output_type": "stream",
          "text": [
            "+----------+------+-------------+-------+----------+------+------------+----------------+---------------+-------------------+-------------------+-------------------+-------------------+-------------------+-------------------+--------------+----------------+--------------------+--------------+------------+-----+\n",
            "|customerID|gender|SeniorCitizen|Partner|Dependents|tenure|PhoneService|   MultipleLines|InternetService|     OnlineSecurity|       OnlineBackup|   DeviceProtection|        TechSupport|        StreamingTV|    StreamingMovies|      Contract|PaperlessBilling|       PaymentMethod|MonthlyCharges|TotalCharges|Churn|\n",
            "+----------+------+-------------+-------+----------+------+------------+----------------+---------------+-------------------+-------------------+-------------------+-------------------+-------------------+-------------------+--------------+----------------+--------------------+--------------+------------+-----+\n",
            "|7590-VHVEG|Female|            0|    Yes|        No|     1|          No|No phone service|            DSL|                 No|                Yes|                 No|                 No|                 No|                 No|Month-to-month|             Yes|    Electronic check|         29.85|       29.85|   No|\n",
            "|5575-GNVDE|  Male|            0|     No|        No|    34|         Yes|              No|            DSL|                Yes|                 No|                Yes|                 No|                 No|                 No|      One year|              No|        Mailed check|         56.95|      1889.5|   No|\n",
            "|3668-QPYBK|  Male|            0|     No|        No|     2|         Yes|              No|            DSL|                Yes|                Yes|                 No|                 No|                 No|                 No|Month-to-month|             Yes|        Mailed check|         53.85|      108.15|  Yes|\n",
            "|7795-CFOCW|  Male|            0|     No|        No|    45|          No|No phone service|            DSL|                Yes|                 No|                Yes|                Yes|                 No|                 No|      One year|              No|Bank transfer (au...|          42.3|     1840.75|   No|\n",
            "|9237-HQITU|Female|            0|     No|        No|     2|         Yes|              No|    Fiber optic|                 No|                 No|                 No|                 No|                 No|                 No|Month-to-month|             Yes|    Electronic check|          70.7|      151.65|  Yes|\n",
            "|9305-CDSKC|Female|            0|     No|        No|     8|         Yes|             Yes|    Fiber optic|                 No|                 No|                Yes|                 No|                Yes|                Yes|Month-to-month|             Yes|    Electronic check|         99.65|       820.5|  Yes|\n",
            "|1452-KIOVK|  Male|            0|     No|       Yes|    22|         Yes|             Yes|    Fiber optic|                 No|                Yes|                 No|                 No|                Yes|                 No|Month-to-month|             Yes|Credit card (auto...|          89.1|      1949.4|   No|\n",
            "|6713-OKOMC|Female|            0|     No|        No|    10|          No|No phone service|            DSL|                Yes|                 No|                 No|                 No|                 No|                 No|Month-to-month|              No|        Mailed check|         29.75|       301.9|   No|\n",
            "|7892-POOKP|Female|            0|    Yes|        No|    28|         Yes|             Yes|    Fiber optic|                 No|                 No|                Yes|                Yes|                Yes|                Yes|Month-to-month|             Yes|    Electronic check|         104.8|     3046.05|  Yes|\n",
            "|6388-TABGU|  Male|            0|     No|       Yes|    62|         Yes|              No|            DSL|                Yes|                Yes|                 No|                 No|                 No|                 No|      One year|              No|Bank transfer (au...|         56.15|     3487.95|   No|\n",
            "|9763-GRSKD|  Male|            0|    Yes|       Yes|    13|         Yes|              No|            DSL|                Yes|                 No|                 No|                 No|                 No|                 No|Month-to-month|             Yes|        Mailed check|         49.95|      587.45|   No|\n",
            "|7469-LKBCI|  Male|            0|     No|        No|    16|         Yes|              No|             No|No internet service|No internet service|No internet service|No internet service|No internet service|No internet service|      Two year|              No|Credit card (auto...|         18.95|       326.8|   No|\n",
            "|8091-TTVAX|  Male|            0|    Yes|        No|    58|         Yes|             Yes|    Fiber optic|                 No|                 No|                Yes|                 No|                Yes|                Yes|      One year|              No|Credit card (auto...|        100.35|      5681.1|   No|\n",
            "|0280-XJGEX|  Male|            0|     No|        No|    49|         Yes|             Yes|    Fiber optic|                 No|                Yes|                Yes|                 No|                Yes|                Yes|Month-to-month|             Yes|Bank transfer (au...|         103.7|      5036.3|  Yes|\n",
            "|5129-JLPIS|  Male|            0|     No|        No|    25|         Yes|              No|    Fiber optic|                Yes|                 No|                Yes|                Yes|                Yes|                Yes|Month-to-month|             Yes|    Electronic check|         105.5|     2686.05|   No|\n",
            "|3655-SNQYZ|Female|            0|    Yes|       Yes|    69|         Yes|             Yes|    Fiber optic|                Yes|                Yes|                Yes|                Yes|                Yes|                Yes|      Two year|              No|Credit card (auto...|        113.25|     7895.15|   No|\n",
            "|8191-XWSZG|Female|            0|     No|        No|    52|         Yes|              No|             No|No internet service|No internet service|No internet service|No internet service|No internet service|No internet service|      One year|              No|        Mailed check|         20.65|     1022.95|   No|\n",
            "|9959-WOFKT|  Male|            0|     No|       Yes|    71|         Yes|             Yes|    Fiber optic|                Yes|                 No|                Yes|                 No|                Yes|                Yes|      Two year|              No|Bank transfer (au...|         106.7|     7382.25|   No|\n",
            "|4190-MFLUW|Female|            0|    Yes|       Yes|    10|         Yes|              No|            DSL|                 No|                 No|                Yes|                Yes|                 No|                 No|Month-to-month|              No|Credit card (auto...|          55.2|      528.35|  Yes|\n",
            "|4183-MYFRB|Female|            0|     No|        No|    21|         Yes|              No|    Fiber optic|                 No|                Yes|                Yes|                 No|                 No|                Yes|Month-to-month|             Yes|    Electronic check|         90.05|      1862.9|   No|\n",
            "+----------+------+-------------+-------+----------+------+------------+----------------+---------------+-------------------+-------------------+-------------------+-------------------+-------------------+-------------------+--------------+----------------+--------------------+--------------+------------+-----+\n",
            "only showing top 20 rows\n",
            "\n"
          ],
          "name": "stdout"
        }
      ]
    },
    {
      "cell_type": "code",
      "metadata": {
        "colab": {
          "base_uri": "https://localhost:8080/"
        },
        "id": "q-R8LNBEbUMD",
        "outputId": "16999997-9c0c-4fea-9f60-1ba7a73d5543"
      },
      "source": [
        "from pyspark.sql.functions import isnan, when, count, col\n",
        "df.select([count(when(isnan(c) | col(c).isNull(), c)).alias(c) for c in df.columns]).show()"
      ],
      "execution_count": null,
      "outputs": [
        {
          "output_type": "stream",
          "text": [
            "+----------+------+-------------+-------+----------+------+------------+-------------+---------------+--------------+------------+----------------+-----------+-----------+---------------+--------+----------------+-------------+--------------+------------+-----+\n",
            "|customerID|gender|SeniorCitizen|Partner|Dependents|tenure|PhoneService|MultipleLines|InternetService|OnlineSecurity|OnlineBackup|DeviceProtection|TechSupport|StreamingTV|StreamingMovies|Contract|PaperlessBilling|PaymentMethod|MonthlyCharges|TotalCharges|Churn|\n",
            "+----------+------+-------------+-------+----------+------+------------+-------------+---------------+--------------+------------+----------------+-----------+-----------+---------------+--------+----------------+-------------+--------------+------------+-----+\n",
            "|         0|     0|            0|      0|         0|     0|           0|            0|              0|             0|           0|               0|          0|          0|              0|       0|               0|            0|             0|          11|    0|\n",
            "+----------+------+-------------+-------+----------+------+------------+-------------+---------------+--------------+------------+----------------+-----------+-----------+---------------+--------+----------------+-------------+--------------+------------+-----+\n",
            "\n"
          ],
          "name": "stdout"
        }
      ]
    },
    {
      "cell_type": "markdown",
      "metadata": {
        "id": "utJN-tcAcCoi"
      },
      "source": [
        "# Data Preprocessing"
      ]
    },
    {
      "cell_type": "markdown",
      "metadata": {
        "id": "sUf6g9xIRVIx"
      },
      "source": [
        "## Splitting Data"
      ]
    },
    {
      "cell_type": "code",
      "metadata": {
        "colab": {
          "base_uri": "https://localhost:8080/"
        },
        "id": "CiUiF9XURY0v",
        "outputId": "7f759016-ba0a-4937-b99f-59c62afd20af"
      },
      "source": [
        "# Train Test Split\n",
        "\n",
        "churn_df = df\n",
        "(train_data, test_data) = churn_df.randomSplit([0.7, 0.3], 42)\n",
        "\n",
        "print('Record for Training: {}'.format(str(train_data.count())))\n",
        "print('Record for Evaluation: {}'.format(str(test_data.count())))"
      ],
      "execution_count": 5,
      "outputs": [
        {
          "output_type": "stream",
          "text": [
            "Record for Training: 5036\n",
            "Record for Evaluation: 2007\n"
          ],
          "name": "stdout"
        }
      ]
    },
    {
      "cell_type": "markdown",
      "metadata": {
        "id": "i_gmeqb6RaVY"
      },
      "source": [
        "## Pipeline"
      ]
    },
    {
      "cell_type": "code",
      "metadata": {
        "id": "-P9JSWyoReoX"
      },
      "source": [
        "from pyspark.ml import Pipeline\n",
        "from pyspark.ml.feature import OneHotEncoder, StringIndexer, VectorAssembler\n",
        "\n",
        "catColumns = [\"gender\", \"SeniorCitizen\", \"Partner\", \"Dependents\", \"PhoneService\",\n",
        "              \"MultipleLines\", \"InternetService\", \"OnlineSecurity\",\"OnlineBackup\",\n",
        "              \"DeviceProtection\",\"TechSupport\",\"StreamingTV\",\"StreamingMovies\",\n",
        "              \"Contract\",\"PaperlessBilling\",\"PaymentMethod\"]"
      ],
      "execution_count": 7,
      "outputs": []
    },
    {
      "cell_type": "code",
      "metadata": {
        "id": "Ux8vJow-RmeA"
      },
      "source": [
        "stages = []\n",
        "\n",
        "for catCol in catColumns:\n",
        "\n",
        "    stringIndexer = StringIndexer(inputCol=catCol, outputCol=catCol+'Index')\n",
        "    \n",
        "    encoder = OneHotEncoder(inputCols=[stringIndexer.getOutputCol()],\n",
        "                            outputCols=[catCol+'catVec'])\n",
        "    \n",
        "    stages += [stringIndexer, encoder]"
      ],
      "execution_count": 8,
      "outputs": []
    },
    {
      "cell_type": "code",
      "metadata": {
        "id": "YLA0gmKpSzKT"
      },
      "source": [
        "from pyspark.ml.feature import Imputer\n",
        "\n",
        "imputer = Imputer(inputCols=['TotalCharges'], outputCols=['Out_TotalCharges'])\n",
        "stages += [imputer]"
      ],
      "execution_count": 12,
      "outputs": []
    },
    {
      "cell_type": "code",
      "metadata": {
        "id": "LhsfiL-UT3xt"
      },
      "source": [
        "label_Idx = StringIndexer(inputCol=\"Churn\", outputCol=\"label\")\n",
        "stages += [label_Idx]"
      ],
      "execution_count": 15,
      "outputs": []
    },
    {
      "cell_type": "code",
      "metadata": {
        "colab": {
          "base_uri": "https://localhost:8080/"
        },
        "id": "MsVETZdzUSEG",
        "outputId": "0de593b3-c08d-4616-8589-58159d2342d3"
      },
      "source": [
        "temp = label_Idx.fit(train_data).transform(train_data)\n",
        "temp.show()"
      ],
      "execution_count": 18,
      "outputs": [
        {
          "output_type": "stream",
          "text": [
            "+----------+------+-------------+-------+----------+------+------------+----------------+---------------+-------------------+-------------------+-------------------+-------------------+-------------------+-------------------+--------------+----------------+--------------------+--------------+------------+-----+-----+\n",
            "|customerID|gender|SeniorCitizen|Partner|Dependents|tenure|PhoneService|   MultipleLines|InternetService|     OnlineSecurity|       OnlineBackup|   DeviceProtection|        TechSupport|        StreamingTV|    StreamingMovies|      Contract|PaperlessBilling|       PaymentMethod|MonthlyCharges|TotalCharges|Churn|label|\n",
            "+----------+------+-------------+-------+----------+------+------------+----------------+---------------+-------------------+-------------------+-------------------+-------------------+-------------------+-------------------+--------------+----------------+--------------------+--------------+------------+-----+-----+\n",
            "|0002-ORFBO|Female|            0|    Yes|       Yes|     9|         Yes|              No|            DSL|                 No|                Yes|                 No|                Yes|                Yes|                 No|      One year|             Yes|        Mailed check|          65.6|       593.3|   No|  0.0|\n",
            "|0003-MKNFE|  Male|            0|     No|        No|     9|         Yes|             Yes|            DSL|                 No|                 No|                 No|                 No|                 No|                Yes|Month-to-month|              No|        Mailed check|          59.9|       542.4|   No|  0.0|\n",
            "|0011-IGKFF|  Male|            1|    Yes|        No|    13|         Yes|              No|    Fiber optic|                 No|                Yes|                Yes|                 No|                Yes|                Yes|Month-to-month|             Yes|    Electronic check|          98.0|     1237.85|  Yes|  1.0|\n",
            "|0013-EXCHZ|Female|            1|    Yes|        No|     3|         Yes|              No|    Fiber optic|                 No|                 No|                 No|                Yes|                Yes|                 No|Month-to-month|             Yes|        Mailed check|          83.9|       267.4|  Yes|  1.0|\n",
            "|0013-MHZWF|Female|            0|     No|       Yes|     9|         Yes|              No|            DSL|                 No|                 No|                 No|                Yes|                Yes|                Yes|Month-to-month|             Yes|Credit card (auto...|          69.4|      571.45|   No|  0.0|\n",
            "|0014-BMAQU|  Male|            0|    Yes|        No|    63|         Yes|             Yes|    Fiber optic|                Yes|                 No|                 No|                Yes|                 No|                 No|      Two year|             Yes|Credit card (auto...|         84.65|      5377.8|   No|  0.0|\n",
            "|0017-DINOC|  Male|            0|     No|        No|    54|          No|No phone service|            DSL|                Yes|                 No|                 No|                Yes|                Yes|                 No|      Two year|              No|Credit card (auto...|          45.2|     2460.55|   No|  0.0|\n",
            "|0017-IUDMW|Female|            0|    Yes|       Yes|    72|         Yes|             Yes|    Fiber optic|                Yes|                Yes|                Yes|                Yes|                Yes|                Yes|      Two year|             Yes|Credit card (auto...|         116.8|     8456.75|   No|  0.0|\n",
            "|0018-NYROU|Female|            0|    Yes|        No|     5|         Yes|              No|    Fiber optic|                 No|                 No|                 No|                 No|                 No|                 No|Month-to-month|             Yes|    Electronic check|         68.95|       351.5|   No|  0.0|\n",
            "|0020-JDNXP|Female|            0|    Yes|       Yes|    34|          No|No phone service|            DSL|                Yes|                 No|                Yes|                Yes|                Yes|                Yes|      One year|              No|        Mailed check|         61.25|      1993.2|   No|  0.0|\n",
            "|0021-IKXGC|Female|            1|     No|        No|     1|         Yes|             Yes|    Fiber optic|                 No|                 No|                 No|                 No|                 No|                 No|Month-to-month|             Yes|    Electronic check|          72.1|        72.1|   No|  0.0|\n",
            "|0022-TCJCI|  Male|            1|     No|        No|    45|         Yes|              No|            DSL|                Yes|                 No|                Yes|                 No|                 No|                Yes|      One year|              No|Credit card (auto...|          62.7|      2791.5|  Yes|  1.0|\n",
            "|0023-UYUPN|Female|            1|    Yes|        No|    50|         Yes|             Yes|             No|No internet service|No internet service|No internet service|No internet service|No internet service|No internet service|      One year|              No|    Electronic check|          25.2|      1306.3|   No|  0.0|\n",
            "|0027-KWYKW|Female|            0|    Yes|       Yes|    23|         Yes|             Yes|    Fiber optic|                 No|                 No|                 No|                 No|                Yes|                 No|Month-to-month|             Yes|    Electronic check|         83.75|     1849.95|   No|  0.0|\n",
            "|0032-PGELS|Female|            0|    Yes|       Yes|     1|          No|No phone service|            DSL|                Yes|                 No|                 No|                 No|                 No|                 No|Month-to-month|              No|Bank transfer (au...|          30.5|        30.5|  Yes|  1.0|\n",
            "|0036-IHMOT|Female|            0|    Yes|       Yes|    55|         Yes|              No|    Fiber optic|                 No|                Yes|                Yes|                Yes|                Yes|                Yes|      One year|             Yes|Bank transfer (au...|         103.7|     5656.75|   No|  0.0|\n",
            "|0040-HALCW|  Male|            0|    Yes|       Yes|    54|         Yes|              No|             No|No internet service|No internet service|No internet service|No internet service|No internet service|No internet service|      Two year|              No|Credit card (auto...|          20.4|      1090.6|   No|  0.0|\n",
            "|0048-PIHNL|Female|            0|    Yes|        No|    49|         Yes|              No|             No|No internet service|No internet service|No internet service|No internet service|No internet service|No internet service|      One year|              No|Bank transfer (au...|         20.45|       900.9|   No|  0.0|\n",
            "|0052-YNYOT|Female|            0|     No|        No|    67|         Yes|              No|             No|No internet service|No internet service|No internet service|No internet service|No internet service|No internet service|      One year|              No|    Electronic check|         20.55|      1343.4|   No|  0.0|\n",
            "|0058-EVZWM|Female|            0|    Yes|        No|    55|         Yes|             Yes|    Fiber optic|                Yes|                 No|                 No|                 No|                Yes|                 No|Month-to-month|             Yes|Bank transfer (au...|          89.8|      4959.6|   No|  0.0|\n",
            "+----------+------+-------------+-------+----------+------+------------+----------------+---------------+-------------------+-------------------+-------------------+-------------------+-------------------+-------------------+--------------+----------------+--------------------+--------------+------------+-----+-----+\n",
            "only showing top 20 rows\n",
            "\n"
          ],
          "name": "stdout"
        }
      ]
    },
    {
      "cell_type": "code",
      "metadata": {
        "colab": {
          "base_uri": "https://localhost:8080/"
        },
        "id": "f_JgsBVGU3VT",
        "outputId": "c45b387b-5977-48a0-f552-b59a085bd647"
      },
      "source": [
        "df.stat.corr('TotalCharges', 'MonthlyCharges')"
      ],
      "execution_count": 19,
      "outputs": [
        {
          "output_type": "execute_result",
          "data": {
            "text/plain": [
              "0.6511738315787813"
            ]
          },
          "metadata": {
            "tags": []
          },
          "execution_count": 19
        }
      ]
    },
    {
      "cell_type": "code",
      "metadata": {
        "id": "U7ObjzEjVPoR"
      },
      "source": [
        "## Binning Tenure Column\n",
        "from pyspark.ml.feature import QuantileDiscretizer\n",
        "tenure_bin = QuantileDiscretizer(numBuckets=3, inputCol='tenure', outputCol='tenure_bin')\n",
        "stages += [tenure_bin]"
      ],
      "execution_count": 23,
      "outputs": []
    },
    {
      "cell_type": "code",
      "metadata": {
        "id": "LhiRuKDbkM7M"
      },
      "source": [
        "numericCols = [\"tenure_bin\", \"Out_TotalCharges\",\"MonthlyCharges\"]\n",
        "assembleInputs = [c + \"catVec\" for c in catColumns] + numericCols\n",
        "assembler = VectorAssembler(inputCols=assembleInputs, outputCol='features')\n",
        "stages += [assembler]"
      ],
      "execution_count": 28,
      "outputs": []
    },
    {
      "cell_type": "code",
      "metadata": {
        "colab": {
          "base_uri": "https://localhost:8080/"
        },
        "id": "kQtz80BOl36L",
        "outputId": "2b4f0cd2-c21d-46e2-e209-be8cac7dc908"
      },
      "source": [
        "stages"
      ],
      "execution_count": 29,
      "outputs": [
        {
          "output_type": "execute_result",
          "data": {
            "text/plain": [
              "[StringIndexer_47544af2d8a2,\n",
              " OneHotEncoder_d65b9804a288,\n",
              " StringIndexer_ee57f3ae6d60,\n",
              " OneHotEncoder_91eacde7c957,\n",
              " StringIndexer_cca33d173917,\n",
              " OneHotEncoder_68ccc9acfa39,\n",
              " StringIndexer_2d8665173d05,\n",
              " OneHotEncoder_4a3794d97c73,\n",
              " StringIndexer_a134ef9e7ca5,\n",
              " OneHotEncoder_a5c0b40567be,\n",
              " StringIndexer_9294c7a7d5fc,\n",
              " OneHotEncoder_ce7d986a6a62,\n",
              " StringIndexer_420d5325fff9,\n",
              " OneHotEncoder_10d54e591c65,\n",
              " StringIndexer_a90fde61ba17,\n",
              " OneHotEncoder_bce3ac102ccd,\n",
              " StringIndexer_ee36e12dc393,\n",
              " OneHotEncoder_02612c9b8a66,\n",
              " StringIndexer_49287002685e,\n",
              " OneHotEncoder_8dfde9b08d5c,\n",
              " StringIndexer_ecd384d996df,\n",
              " OneHotEncoder_df5f770ec935,\n",
              " StringIndexer_ba470d08ad85,\n",
              " OneHotEncoder_12c35978ecf8,\n",
              " StringIndexer_167f670b599f,\n",
              " OneHotEncoder_cc0c05c8c61d,\n",
              " StringIndexer_a7b6f443607d,\n",
              " OneHotEncoder_ee51ddc67e2c,\n",
              " StringIndexer_566c0aaef23c,\n",
              " OneHotEncoder_ecd72acac1f1,\n",
              " StringIndexer_9cdd747845fc,\n",
              " OneHotEncoder_c6490a08c609,\n",
              " Imputer_5d796aaca4bd,\n",
              " StringIndexer_916de6db0d3d,\n",
              " QuantileDiscretizer_e58fc338f1e5,\n",
              " VectorAssembler_e8f0de03e556]"
            ]
          },
          "metadata": {
            "tags": []
          },
          "execution_count": 29
        }
      ]
    },
    {
      "cell_type": "code",
      "metadata": {
        "id": "8AnEW1SZmmMT"
      },
      "source": [
        "pipeline = Pipeline(stages=stages)\n",
        "pipelineModel = pipeline.fit(train_data)"
      ],
      "execution_count": 31,
      "outputs": []
    },
    {
      "cell_type": "code",
      "metadata": {
        "id": "CpXiM_x2my97"
      },
      "source": [
        "trainprepDF = pipelineModel.transform(train_data)\n",
        "testprepDF = pipelineModel.transform(test_data)"
      ],
      "execution_count": 33,
      "outputs": []
    },
    {
      "cell_type": "code",
      "metadata": {
        "colab": {
          "base_uri": "https://localhost:8080/"
        },
        "id": "Cfrix5ZLpvtD",
        "outputId": "e0939b06-d2c3-40f9-9dd1-f22b762a83d5"
      },
      "source": [
        "trainprepDF.show()"
      ],
      "execution_count": 36,
      "outputs": [
        {
          "output_type": "stream",
          "text": [
            "+----------+------+-------------+-------+----------+------+------------+----------------+---------------+-------------------+-------------------+-------------------+-------------------+-------------------+-------------------+--------------+----------------+--------------------+--------------+------------+-----+-----------+-------------+------------------+-------------------+------------+-------------+---------------+----------------+-----------------+------------------+------------------+-------------------+--------------------+---------------------+-------------------+--------------------+-----------------+------------------+---------------------+----------------------+----------------+-----------------+----------------+-----------------+--------------------+---------------------+-------------+--------------+---------------------+----------------------+------------------+-------------------+----------------+-----+----------+--------------------+\n",
            "|customerID|gender|SeniorCitizen|Partner|Dependents|tenure|PhoneService|   MultipleLines|InternetService|     OnlineSecurity|       OnlineBackup|   DeviceProtection|        TechSupport|        StreamingTV|    StreamingMovies|      Contract|PaperlessBilling|       PaymentMethod|MonthlyCharges|TotalCharges|Churn|genderIndex| gendercatVec|SeniorCitizenIndex|SeniorCitizencatVec|PartnerIndex|PartnercatVec|DependentsIndex|DependentscatVec|PhoneServiceIndex|PhoneServicecatVec|MultipleLinesIndex|MultipleLinescatVec|InternetServiceIndex|InternetServicecatVec|OnlineSecurityIndex|OnlineSecuritycatVec|OnlineBackupIndex|OnlineBackupcatVec|DeviceProtectionIndex|DeviceProtectioncatVec|TechSupportIndex|TechSupportcatVec|StreamingTVIndex|StreamingTVcatVec|StreamingMoviesIndex|StreamingMoviescatVec|ContractIndex|ContractcatVec|PaperlessBillingIndex|PaperlessBillingcatVec|PaymentMethodIndex|PaymentMethodcatVec|Out_TotalCharges|label|tenure_bin|            features|\n",
            "+----------+------+-------------+-------+----------+------+------------+----------------+---------------+-------------------+-------------------+-------------------+-------------------+-------------------+-------------------+--------------+----------------+--------------------+--------------+------------+-----+-----------+-------------+------------------+-------------------+------------+-------------+---------------+----------------+-----------------+------------------+------------------+-------------------+--------------------+---------------------+-------------------+--------------------+-----------------+------------------+---------------------+----------------------+----------------+-----------------+----------------+-----------------+--------------------+---------------------+-------------+--------------+---------------------+----------------------+------------------+-------------------+----------------+-----+----------+--------------------+\n",
            "|0002-ORFBO|Female|            0|    Yes|       Yes|     9|         Yes|              No|            DSL|                 No|                Yes|                 No|                Yes|                Yes|                 No|      One year|             Yes|        Mailed check|          65.6|       593.3|   No|        1.0|    (1,[],[])|               0.0|      (1,[0],[1.0])|         1.0|    (1,[],[])|            1.0|       (1,[],[])|              0.0|     (1,[0],[1.0])|               0.0|      (2,[0],[1.0])|                 1.0|        (2,[1],[1.0])|                0.0|       (2,[0],[1.0])|              1.0|     (2,[1],[1.0])|                  0.0|         (2,[0],[1.0])|             1.0|    (2,[1],[1.0])|             1.0|    (2,[1],[1.0])|                 0.0|        (2,[0],[1.0])|          2.0|     (2,[],[])|                  0.0|         (1,[0],[1.0])|               1.0|      (3,[1],[1.0])|           593.3|  0.0|       0.0|(30,[1,4,5,8,9,12...|\n",
            "|0003-MKNFE|  Male|            0|     No|        No|     9|         Yes|             Yes|            DSL|                 No|                 No|                 No|                 No|                 No|                Yes|Month-to-month|              No|        Mailed check|          59.9|       542.4|   No|        0.0|(1,[0],[1.0])|               0.0|      (1,[0],[1.0])|         0.0|(1,[0],[1.0])|            0.0|   (1,[0],[1.0])|              0.0|     (1,[0],[1.0])|               1.0|      (2,[1],[1.0])|                 1.0|        (2,[1],[1.0])|                0.0|       (2,[0],[1.0])|              0.0|     (2,[0],[1.0])|                  0.0|         (2,[0],[1.0])|             0.0|    (2,[0],[1.0])|             0.0|    (2,[0],[1.0])|                 1.0|        (2,[1],[1.0])|          0.0| (2,[0],[1.0])|                  1.0|             (1,[],[])|               1.0|      (3,[1],[1.0])|           542.4|  0.0|       0.0|(30,[0,1,2,3,4,6,...|\n",
            "|0011-IGKFF|  Male|            1|    Yes|        No|    13|         Yes|              No|    Fiber optic|                 No|                Yes|                Yes|                 No|                Yes|                Yes|Month-to-month|             Yes|    Electronic check|          98.0|     1237.85|  Yes|        0.0|(1,[0],[1.0])|               1.0|          (1,[],[])|         1.0|    (1,[],[])|            0.0|   (1,[0],[1.0])|              0.0|     (1,[0],[1.0])|               0.0|      (2,[0],[1.0])|                 0.0|        (2,[0],[1.0])|                0.0|       (2,[0],[1.0])|              1.0|     (2,[1],[1.0])|                  1.0|         (2,[1],[1.0])|             0.0|    (2,[0],[1.0])|             1.0|    (2,[1],[1.0])|                 1.0|        (2,[1],[1.0])|          0.0| (2,[0],[1.0])|                  0.0|         (1,[0],[1.0])|               0.0|      (3,[0],[1.0])|         1237.85|  1.0|       0.0|(30,[0,3,4,5,7,9,...|\n",
            "|0013-EXCHZ|Female|            1|    Yes|        No|     3|         Yes|              No|    Fiber optic|                 No|                 No|                 No|                Yes|                Yes|                 No|Month-to-month|             Yes|        Mailed check|          83.9|       267.4|  Yes|        1.0|    (1,[],[])|               1.0|          (1,[],[])|         1.0|    (1,[],[])|            0.0|   (1,[0],[1.0])|              0.0|     (1,[0],[1.0])|               0.0|      (2,[0],[1.0])|                 0.0|        (2,[0],[1.0])|                0.0|       (2,[0],[1.0])|              0.0|     (2,[0],[1.0])|                  0.0|         (2,[0],[1.0])|             1.0|    (2,[1],[1.0])|             1.0|    (2,[1],[1.0])|                 0.0|        (2,[0],[1.0])|          0.0| (2,[0],[1.0])|                  0.0|         (1,[0],[1.0])|               1.0|      (3,[1],[1.0])|           267.4|  1.0|       0.0|(30,[3,4,5,7,9,11...|\n",
            "|0013-MHZWF|Female|            0|     No|       Yes|     9|         Yes|              No|            DSL|                 No|                 No|                 No|                Yes|                Yes|                Yes|Month-to-month|             Yes|Credit card (auto...|          69.4|      571.45|   No|        1.0|    (1,[],[])|               0.0|      (1,[0],[1.0])|         0.0|(1,[0],[1.0])|            1.0|       (1,[],[])|              0.0|     (1,[0],[1.0])|               0.0|      (2,[0],[1.0])|                 1.0|        (2,[1],[1.0])|                0.0|       (2,[0],[1.0])|              0.0|     (2,[0],[1.0])|                  0.0|         (2,[0],[1.0])|             1.0|    (2,[1],[1.0])|             1.0|    (2,[1],[1.0])|                 1.0|        (2,[1],[1.0])|          0.0| (2,[0],[1.0])|                  0.0|         (1,[0],[1.0])|               2.0|      (3,[2],[1.0])|          571.45|  0.0|       0.0|(30,[1,2,4,5,8,9,...|\n",
            "|0014-BMAQU|  Male|            0|    Yes|        No|    63|         Yes|             Yes|    Fiber optic|                Yes|                 No|                 No|                Yes|                 No|                 No|      Two year|             Yes|Credit card (auto...|         84.65|      5377.8|   No|        0.0|(1,[0],[1.0])|               0.0|      (1,[0],[1.0])|         1.0|    (1,[],[])|            0.0|   (1,[0],[1.0])|              0.0|     (1,[0],[1.0])|               1.0|      (2,[1],[1.0])|                 0.0|        (2,[0],[1.0])|                1.0|       (2,[1],[1.0])|              0.0|     (2,[0],[1.0])|                  0.0|         (2,[0],[1.0])|             1.0|    (2,[1],[1.0])|             0.0|    (2,[0],[1.0])|                 0.0|        (2,[0],[1.0])|          1.0| (2,[1],[1.0])|                  0.0|         (1,[0],[1.0])|               2.0|      (3,[2],[1.0])|          5377.8|  0.0|       2.0|(30,[0,1,3,4,6,7,...|\n",
            "|0017-DINOC|  Male|            0|     No|        No|    54|          No|No phone service|            DSL|                Yes|                 No|                 No|                Yes|                Yes|                 No|      Two year|              No|Credit card (auto...|          45.2|     2460.55|   No|        0.0|(1,[0],[1.0])|               0.0|      (1,[0],[1.0])|         0.0|(1,[0],[1.0])|            0.0|   (1,[0],[1.0])|              1.0|         (1,[],[])|               2.0|          (2,[],[])|                 1.0|        (2,[1],[1.0])|                1.0|       (2,[1],[1.0])|              0.0|     (2,[0],[1.0])|                  0.0|         (2,[0],[1.0])|             1.0|    (2,[1],[1.0])|             1.0|    (2,[1],[1.0])|                 0.0|        (2,[0],[1.0])|          1.0| (2,[1],[1.0])|                  1.0|             (1,[],[])|               2.0|      (3,[2],[1.0])|         2460.55|  0.0|       2.0|(30,[0,1,2,3,8,10...|\n",
            "|0017-IUDMW|Female|            0|    Yes|       Yes|    72|         Yes|             Yes|    Fiber optic|                Yes|                Yes|                Yes|                Yes|                Yes|                Yes|      Two year|             Yes|Credit card (auto...|         116.8|     8456.75|   No|        1.0|    (1,[],[])|               0.0|      (1,[0],[1.0])|         1.0|    (1,[],[])|            1.0|       (1,[],[])|              0.0|     (1,[0],[1.0])|               1.0|      (2,[1],[1.0])|                 0.0|        (2,[0],[1.0])|                1.0|       (2,[1],[1.0])|              1.0|     (2,[1],[1.0])|                  1.0|         (2,[1],[1.0])|             1.0|    (2,[1],[1.0])|             1.0|    (2,[1],[1.0])|                 1.0|        (2,[1],[1.0])|          1.0| (2,[1],[1.0])|                  0.0|         (1,[0],[1.0])|               2.0|      (3,[2],[1.0])|         8456.75|  0.0|       2.0|(30,[1,4,6,7,10,1...|\n",
            "|0018-NYROU|Female|            0|    Yes|        No|     5|         Yes|              No|    Fiber optic|                 No|                 No|                 No|                 No|                 No|                 No|Month-to-month|             Yes|    Electronic check|         68.95|       351.5|   No|        1.0|    (1,[],[])|               0.0|      (1,[0],[1.0])|         1.0|    (1,[],[])|            0.0|   (1,[0],[1.0])|              0.0|     (1,[0],[1.0])|               0.0|      (2,[0],[1.0])|                 0.0|        (2,[0],[1.0])|                0.0|       (2,[0],[1.0])|              0.0|     (2,[0],[1.0])|                  0.0|         (2,[0],[1.0])|             0.0|    (2,[0],[1.0])|             0.0|    (2,[0],[1.0])|                 0.0|        (2,[0],[1.0])|          0.0| (2,[0],[1.0])|                  0.0|         (1,[0],[1.0])|               0.0|      (3,[0],[1.0])|           351.5|  0.0|       0.0|(30,[1,3,4,5,7,9,...|\n",
            "|0020-JDNXP|Female|            0|    Yes|       Yes|    34|          No|No phone service|            DSL|                Yes|                 No|                Yes|                Yes|                Yes|                Yes|      One year|              No|        Mailed check|         61.25|      1993.2|   No|        1.0|    (1,[],[])|               0.0|      (1,[0],[1.0])|         1.0|    (1,[],[])|            1.0|       (1,[],[])|              1.0|         (1,[],[])|               2.0|          (2,[],[])|                 1.0|        (2,[1],[1.0])|                1.0|       (2,[1],[1.0])|              0.0|     (2,[0],[1.0])|                  1.0|         (2,[1],[1.0])|             1.0|    (2,[1],[1.0])|             1.0|    (2,[1],[1.0])|                 1.0|        (2,[1],[1.0])|          2.0|     (2,[],[])|                  1.0|             (1,[],[])|               1.0|      (3,[1],[1.0])|          1993.2|  0.0|       1.0|(30,[1,8,10,11,14...|\n",
            "|0021-IKXGC|Female|            1|     No|        No|     1|         Yes|             Yes|    Fiber optic|                 No|                 No|                 No|                 No|                 No|                 No|Month-to-month|             Yes|    Electronic check|          72.1|        72.1|   No|        1.0|    (1,[],[])|               1.0|          (1,[],[])|         0.0|(1,[0],[1.0])|            0.0|   (1,[0],[1.0])|              0.0|     (1,[0],[1.0])|               1.0|      (2,[1],[1.0])|                 0.0|        (2,[0],[1.0])|                0.0|       (2,[0],[1.0])|              0.0|     (2,[0],[1.0])|                  0.0|         (2,[0],[1.0])|             0.0|    (2,[0],[1.0])|             0.0|    (2,[0],[1.0])|                 0.0|        (2,[0],[1.0])|          0.0| (2,[0],[1.0])|                  0.0|         (1,[0],[1.0])|               0.0|      (3,[0],[1.0])|            72.1|  0.0|       0.0|(30,[2,3,4,6,7,9,...|\n",
            "|0022-TCJCI|  Male|            1|     No|        No|    45|         Yes|              No|            DSL|                Yes|                 No|                Yes|                 No|                 No|                Yes|      One year|              No|Credit card (auto...|          62.7|      2791.5|  Yes|        0.0|(1,[0],[1.0])|               1.0|          (1,[],[])|         0.0|(1,[0],[1.0])|            0.0|   (1,[0],[1.0])|              0.0|     (1,[0],[1.0])|               0.0|      (2,[0],[1.0])|                 1.0|        (2,[1],[1.0])|                1.0|       (2,[1],[1.0])|              0.0|     (2,[0],[1.0])|                  1.0|         (2,[1],[1.0])|             0.0|    (2,[0],[1.0])|             0.0|    (2,[0],[1.0])|                 1.0|        (2,[1],[1.0])|          2.0|     (2,[],[])|                  1.0|             (1,[],[])|               2.0|      (3,[2],[1.0])|          2791.5|  1.0|       1.0|(30,[0,2,3,4,5,8,...|\n",
            "|0023-UYUPN|Female|            1|    Yes|        No|    50|         Yes|             Yes|             No|No internet service|No internet service|No internet service|No internet service|No internet service|No internet service|      One year|              No|    Electronic check|          25.2|      1306.3|   No|        1.0|    (1,[],[])|               1.0|          (1,[],[])|         1.0|    (1,[],[])|            0.0|   (1,[0],[1.0])|              0.0|     (1,[0],[1.0])|               1.0|      (2,[1],[1.0])|                 2.0|            (2,[],[])|                2.0|           (2,[],[])|              2.0|         (2,[],[])|                  2.0|             (2,[],[])|             2.0|        (2,[],[])|             2.0|        (2,[],[])|                 2.0|            (2,[],[])|          2.0|     (2,[],[])|                  1.0|             (1,[],[])|               0.0|      (3,[0],[1.0])|          1306.3|  0.0|       2.0|(30,[3,4,6,24,27,...|\n",
            "|0027-KWYKW|Female|            0|    Yes|       Yes|    23|         Yes|             Yes|    Fiber optic|                 No|                 No|                 No|                 No|                Yes|                 No|Month-to-month|             Yes|    Electronic check|         83.75|     1849.95|   No|        1.0|    (1,[],[])|               0.0|      (1,[0],[1.0])|         1.0|    (1,[],[])|            1.0|       (1,[],[])|              0.0|     (1,[0],[1.0])|               1.0|      (2,[1],[1.0])|                 0.0|        (2,[0],[1.0])|                0.0|       (2,[0],[1.0])|              0.0|     (2,[0],[1.0])|                  0.0|         (2,[0],[1.0])|             0.0|    (2,[0],[1.0])|             1.0|    (2,[1],[1.0])|                 0.0|        (2,[0],[1.0])|          0.0| (2,[0],[1.0])|                  0.0|         (1,[0],[1.0])|               0.0|      (3,[0],[1.0])|         1849.95|  0.0|       1.0|(30,[1,4,6,7,9,11...|\n",
            "|0032-PGELS|Female|            0|    Yes|       Yes|     1|          No|No phone service|            DSL|                Yes|                 No|                 No|                 No|                 No|                 No|Month-to-month|              No|Bank transfer (au...|          30.5|        30.5|  Yes|        1.0|    (1,[],[])|               0.0|      (1,[0],[1.0])|         1.0|    (1,[],[])|            1.0|       (1,[],[])|              1.0|         (1,[],[])|               2.0|          (2,[],[])|                 1.0|        (2,[1],[1.0])|                1.0|       (2,[1],[1.0])|              0.0|     (2,[0],[1.0])|                  0.0|         (2,[0],[1.0])|             0.0|    (2,[0],[1.0])|             0.0|    (2,[0],[1.0])|                 0.0|        (2,[0],[1.0])|          0.0| (2,[0],[1.0])|                  1.0|             (1,[],[])|               3.0|          (3,[],[])|            30.5|  1.0|       0.0|(30,[1,8,10,11,13...|\n",
            "|0036-IHMOT|Female|            0|    Yes|       Yes|    55|         Yes|              No|    Fiber optic|                 No|                Yes|                Yes|                Yes|                Yes|                Yes|      One year|             Yes|Bank transfer (au...|         103.7|     5656.75|   No|        1.0|    (1,[],[])|               0.0|      (1,[0],[1.0])|         1.0|    (1,[],[])|            1.0|       (1,[],[])|              0.0|     (1,[0],[1.0])|               0.0|      (2,[0],[1.0])|                 0.0|        (2,[0],[1.0])|                0.0|       (2,[0],[1.0])|              1.0|     (2,[1],[1.0])|                  1.0|         (2,[1],[1.0])|             1.0|    (2,[1],[1.0])|             1.0|    (2,[1],[1.0])|                 1.0|        (2,[1],[1.0])|          2.0|     (2,[],[])|                  0.0|         (1,[0],[1.0])|               3.0|          (3,[],[])|         5656.75|  0.0|       2.0|(30,[1,4,5,7,9,12...|\n",
            "|0040-HALCW|  Male|            0|    Yes|       Yes|    54|         Yes|              No|             No|No internet service|No internet service|No internet service|No internet service|No internet service|No internet service|      Two year|              No|Credit card (auto...|          20.4|      1090.6|   No|        0.0|(1,[0],[1.0])|               0.0|      (1,[0],[1.0])|         1.0|    (1,[],[])|            1.0|       (1,[],[])|              0.0|     (1,[0],[1.0])|               0.0|      (2,[0],[1.0])|                 2.0|            (2,[],[])|                2.0|           (2,[],[])|              2.0|         (2,[],[])|                  2.0|             (2,[],[])|             2.0|        (2,[],[])|             2.0|        (2,[],[])|                 2.0|            (2,[],[])|          1.0| (2,[1],[1.0])|                  1.0|             (1,[],[])|               2.0|      (3,[2],[1.0])|          1090.6|  0.0|       2.0|(30,[0,1,4,5,22,2...|\n",
            "|0048-PIHNL|Female|            0|    Yes|        No|    49|         Yes|              No|             No|No internet service|No internet service|No internet service|No internet service|No internet service|No internet service|      One year|              No|Bank transfer (au...|         20.45|       900.9|   No|        1.0|    (1,[],[])|               0.0|      (1,[0],[1.0])|         1.0|    (1,[],[])|            0.0|   (1,[0],[1.0])|              0.0|     (1,[0],[1.0])|               0.0|      (2,[0],[1.0])|                 2.0|            (2,[],[])|                2.0|           (2,[],[])|              2.0|         (2,[],[])|                  2.0|             (2,[],[])|             2.0|        (2,[],[])|             2.0|        (2,[],[])|                 2.0|            (2,[],[])|          2.0|     (2,[],[])|                  1.0|             (1,[],[])|               3.0|          (3,[],[])|           900.9|  0.0|       2.0|(30,[1,3,4,5,27,2...|\n",
            "|0052-YNYOT|Female|            0|     No|        No|    67|         Yes|              No|             No|No internet service|No internet service|No internet service|No internet service|No internet service|No internet service|      One year|              No|    Electronic check|         20.55|      1343.4|   No|        1.0|    (1,[],[])|               0.0|      (1,[0],[1.0])|         0.0|(1,[0],[1.0])|            0.0|   (1,[0],[1.0])|              0.0|     (1,[0],[1.0])|               0.0|      (2,[0],[1.0])|                 2.0|            (2,[],[])|                2.0|           (2,[],[])|              2.0|         (2,[],[])|                  2.0|             (2,[],[])|             2.0|        (2,[],[])|             2.0|        (2,[],[])|                 2.0|            (2,[],[])|          2.0|     (2,[],[])|                  1.0|             (1,[],[])|               0.0|      (3,[0],[1.0])|          1343.4|  0.0|       2.0|(30,[1,2,3,4,5,24...|\n",
            "|0058-EVZWM|Female|            0|    Yes|        No|    55|         Yes|             Yes|    Fiber optic|                Yes|                 No|                 No|                 No|                Yes|                 No|Month-to-month|             Yes|Bank transfer (au...|          89.8|      4959.6|   No|        1.0|    (1,[],[])|               0.0|      (1,[0],[1.0])|         1.0|    (1,[],[])|            0.0|   (1,[0],[1.0])|              0.0|     (1,[0],[1.0])|               1.0|      (2,[1],[1.0])|                 0.0|        (2,[0],[1.0])|                1.0|       (2,[1],[1.0])|              0.0|     (2,[0],[1.0])|                  0.0|         (2,[0],[1.0])|             0.0|    (2,[0],[1.0])|             1.0|    (2,[1],[1.0])|                 0.0|        (2,[0],[1.0])|          0.0| (2,[0],[1.0])|                  0.0|         (1,[0],[1.0])|               3.0|          (3,[],[])|          4959.6|  0.0|       2.0|(30,[1,3,4,6,7,10...|\n",
            "+----------+------+-------------+-------+----------+------+------------+----------------+---------------+-------------------+-------------------+-------------------+-------------------+-------------------+-------------------+--------------+----------------+--------------------+--------------+------------+-----+-----------+-------------+------------------+-------------------+------------+-------------+---------------+----------------+-----------------+------------------+------------------+-------------------+--------------------+---------------------+-------------------+--------------------+-----------------+------------------+---------------------+----------------------+----------------+-----------------+----------------+-----------------+--------------------+---------------------+-------------+--------------+---------------------+----------------------+------------------+-------------------+----------------+-----+----------+--------------------+\n",
            "only showing top 20 rows\n",
            "\n"
          ],
          "name": "stdout"
        }
      ]
    },
    {
      "cell_type": "code",
      "metadata": {
        "colab": {
          "base_uri": "https://localhost:8080/"
        },
        "id": "nt2NmYG1p5kv",
        "outputId": "8d3ea2dd-9a2a-4ca0-d93d-d8971515a262"
      },
      "source": [
        "trainprepDF.select('tenure_bin').show()"
      ],
      "execution_count": 37,
      "outputs": [
        {
          "output_type": "stream",
          "text": [
            "+----------+\n",
            "|tenure_bin|\n",
            "+----------+\n",
            "|       0.0|\n",
            "|       0.0|\n",
            "|       0.0|\n",
            "|       0.0|\n",
            "|       0.0|\n",
            "|       2.0|\n",
            "|       2.0|\n",
            "|       2.0|\n",
            "|       0.0|\n",
            "|       1.0|\n",
            "|       0.0|\n",
            "|       1.0|\n",
            "|       2.0|\n",
            "|       1.0|\n",
            "|       0.0|\n",
            "|       2.0|\n",
            "|       2.0|\n",
            "|       2.0|\n",
            "|       2.0|\n",
            "|       2.0|\n",
            "+----------+\n",
            "only showing top 20 rows\n",
            "\n"
          ],
          "name": "stdout"
        }
      ]
    },
    {
      "cell_type": "markdown",
      "metadata": {
        "id": "gWAJmD0MrX1r"
      },
      "source": [
        "# Modelling"
      ]
    },
    {
      "cell_type": "markdown",
      "metadata": {
        "id": "h4GushqQw_UO"
      },
      "source": [
        "## Build ML Model"
      ]
    },
    {
      "cell_type": "code",
      "metadata": {
        "id": "y_j1sitcsJX7"
      },
      "source": [
        "from pyspark.ml.classification import LogisticRegression\n",
        "\n",
        "# Create initial Logistic Regression Model\n",
        "lr = LogisticRegression(labelCol='label', featuresCol='features', maxIter=10)\n",
        "\n",
        "# Train Model with Training Data\n",
        "lrModel = lr.fit(trainprepDF)"
      ],
      "execution_count": 39,
      "outputs": []
    },
    {
      "cell_type": "code",
      "metadata": {
        "colab": {
          "base_uri": "https://localhost:8080/"
        },
        "id": "lQcpGb15szWq",
        "outputId": "bf924d68-723e-4c5c-ee63-0483fe9c2672"
      },
      "source": [
        "print(\"Coefficients: {}\".format(str(lrModel.coefficients)))\n",
        "print(\"Intercept: {}\".format(str(lrModel.intercept)))"
      ],
      "execution_count": 40,
      "outputs": [
        {
          "output_type": "stream",
          "text": [
            "Coefficients: [-0.021560642539512086,-0.32069679629425424,0.011636080729672184,0.11034936087031902,-0.5643041818835485,-0.22980847464271004,0.03057132309250357,0.537193969096821,-0.3649407295058954,0.28639022026858707,-0.1128858667963498,0.19958053383225854,-0.0014818358395158574,0.1086743423933517,0.09831928689627477,0.25802959209150744,-0.0761087452756491,-8.117642014732638e-05,0.20728169092984583,-0.020702866290663043,0.22691611298832548,0.6263658841247365,-0.8917783914975173,0.28383344169714414,0.22699869791407642,-0.09100472140025453,-0.064457288578794,-0.6446507313150069,-0.00011409316245573024,0.004719080994330909]\n",
            "Intercept: -1.1337788028425855\n"
          ],
          "name": "stdout"
        }
      ]
    },
    {
      "cell_type": "markdown",
      "metadata": {
        "id": "9RJCraJLw7v0"
      },
      "source": [
        "## Evaluate Model"
      ]
    },
    {
      "cell_type": "code",
      "metadata": {
        "id": "avNtLE_ytKBv"
      },
      "source": [
        "summary = lrModel.summary"
      ],
      "execution_count": 41,
      "outputs": []
    },
    {
      "cell_type": "code",
      "metadata": {
        "colab": {
          "base_uri": "https://localhost:8080/"
        },
        "id": "4neFR3yQvGxm",
        "outputId": "4fd49bdc-45ac-4a16-9c3c-821f7163f68f"
      },
      "source": [
        "accuracy = summary.accuracy\n",
        "FalsePositiveRate = summary.weightedFalsePositiveRate\n",
        "TruePositiveRate = summary.weightedTruePositiveRate\n",
        "fMeasure = summary.weightedFMeasure()\n",
        "precision = summary.weightedPrecision\n",
        "recall = summary.weightedRecall\n",
        "AreaUnderROC = summary.areaUnderROC\n",
        "\n",
        "print(\"Accuracy: {}\\nFPR: {}\\nTPR: {}\\nF-Measure: {}\\nPrecision: {}\\nRecall: {}\\nAreaUnderROC: {}\" \\\n",
        "      .format(accuracy, FalsePositiveRate, TruePositiveRate, fMeasure, precision, recall, AreaUnderROC))"
      ],
      "execution_count": 45,
      "outputs": [
        {
          "output_type": "stream",
          "text": [
            "Accuracy: 0.8000397140587768\n",
            "FPR: 0.3729909978540669\n",
            "TPR: 0.8000397140587767\n",
            "F-Measure: 0.7928507673500943\n",
            "Precision: 0.7905608902766834\n",
            "Recall: 0.8000397140587767\n",
            "AreaUnderROC: 0.8405516411890037\n"
          ],
          "name": "stdout"
        }
      ]
    },
    {
      "cell_type": "code",
      "metadata": {
        "colab": {
          "base_uri": "https://localhost:8080/",
          "height": 91
        },
        "id": "ZLjGd10swzp4",
        "outputId": "5d0d9348-8f82-4881-aec9-640e8e807610"
      },
      "source": [
        "# Displaying Plot Worked for Databricks Only\n",
        "display(lrModel, trainprepDF, \"ROC\")"
      ],
      "execution_count": 46,
      "outputs": [
        {
          "output_type": "display_data",
          "data": {
            "text/plain": [
              "LogisticRegressionModel: uid=LogisticRegression_b614da7662fc, numClasses=2, numFeatures=30"
            ]
          },
          "metadata": {
            "tags": []
          }
        },
        {
          "output_type": "display_data",
          "data": {
            "text/plain": [
              "DataFrame[customerID: string, gender: string, SeniorCitizen: int, Partner: string, Dependents: string, tenure: int, PhoneService: string, MultipleLines: string, InternetService: string, OnlineSecurity: string, OnlineBackup: string, DeviceProtection: string, TechSupport: string, StreamingTV: string, StreamingMovies: string, Contract: string, PaperlessBilling: string, PaymentMethod: string, MonthlyCharges: double, TotalCharges: double, Churn: string, genderIndex: double, gendercatVec: vector, SeniorCitizenIndex: double, SeniorCitizencatVec: vector, PartnerIndex: double, PartnercatVec: vector, DependentsIndex: double, DependentscatVec: vector, PhoneServiceIndex: double, PhoneServicecatVec: vector, MultipleLinesIndex: double, MultipleLinescatVec: vector, InternetServiceIndex: double, InternetServicecatVec: vector, OnlineSecurityIndex: double, OnlineSecuritycatVec: vector, OnlineBackupIndex: double, OnlineBackupcatVec: vector, DeviceProtectionIndex: double, DeviceProtectioncatVec: vector, TechSupportIndex: double, TechSupportcatVec: vector, StreamingTVIndex: double, StreamingTVcatVec: vector, StreamingMoviesIndex: double, StreamingMoviescatVec: vector, ContractIndex: double, ContractcatVec: vector, PaperlessBillingIndex: double, PaperlessBillingcatVec: vector, PaymentMethodIndex: double, PaymentMethodcatVec: vector, Out_TotalCharges: double, label: double, tenure_bin: double, features: vector]"
            ]
          },
          "metadata": {
            "tags": []
          }
        },
        {
          "output_type": "display_data",
          "data": {
            "application/vnd.google.colaboratory.intrinsic+json": {
              "type": "string"
            },
            "text/plain": [
              "'ROC'"
            ]
          },
          "metadata": {
            "tags": []
          }
        }
      ]
    },
    {
      "cell_type": "code",
      "metadata": {
        "colab": {
          "base_uri": "https://localhost:8080/",
          "height": 91
        },
        "id": "RTfRqVccxnpv",
        "outputId": "849dd2e2-3239-434b-b545-3782ff17d880"
      },
      "source": [
        "# Displaying Plot Worked for Databricks Only\n",
        "display(lrModel, trainprepDF, \"fittedVsResiduals\")"
      ],
      "execution_count": 47,
      "outputs": [
        {
          "output_type": "display_data",
          "data": {
            "text/plain": [
              "LogisticRegressionModel: uid=LogisticRegression_b614da7662fc, numClasses=2, numFeatures=30"
            ]
          },
          "metadata": {
            "tags": []
          }
        },
        {
          "output_type": "display_data",
          "data": {
            "text/plain": [
              "DataFrame[customerID: string, gender: string, SeniorCitizen: int, Partner: string, Dependents: string, tenure: int, PhoneService: string, MultipleLines: string, InternetService: string, OnlineSecurity: string, OnlineBackup: string, DeviceProtection: string, TechSupport: string, StreamingTV: string, StreamingMovies: string, Contract: string, PaperlessBilling: string, PaymentMethod: string, MonthlyCharges: double, TotalCharges: double, Churn: string, genderIndex: double, gendercatVec: vector, SeniorCitizenIndex: double, SeniorCitizencatVec: vector, PartnerIndex: double, PartnercatVec: vector, DependentsIndex: double, DependentscatVec: vector, PhoneServiceIndex: double, PhoneServicecatVec: vector, MultipleLinesIndex: double, MultipleLinescatVec: vector, InternetServiceIndex: double, InternetServicecatVec: vector, OnlineSecurityIndex: double, OnlineSecuritycatVec: vector, OnlineBackupIndex: double, OnlineBackupcatVec: vector, DeviceProtectionIndex: double, DeviceProtectioncatVec: vector, TechSupportIndex: double, TechSupportcatVec: vector, StreamingTVIndex: double, StreamingTVcatVec: vector, StreamingMoviesIndex: double, StreamingMoviescatVec: vector, ContractIndex: double, ContractcatVec: vector, PaperlessBillingIndex: double, PaperlessBillingcatVec: vector, PaymentMethodIndex: double, PaymentMethodcatVec: vector, Out_TotalCharges: double, label: double, tenure_bin: double, features: vector]"
            ]
          },
          "metadata": {
            "tags": []
          }
        },
        {
          "output_type": "display_data",
          "data": {
            "application/vnd.google.colaboratory.intrinsic+json": {
              "type": "string"
            },
            "text/plain": [
              "'fittedVsResiduals'"
            ]
          },
          "metadata": {
            "tags": []
          }
        }
      ]
    },
    {
      "cell_type": "code",
      "metadata": {
        "colab": {
          "base_uri": "https://localhost:8080/",
          "height": 53
        },
        "id": "jVn2xHyyy0OW",
        "outputId": "ecbde851-3c76-44e4-d5d4-1cd46a34f609"
      },
      "source": [
        "from pyspark.ml.evaluation import BinaryClassificationEvaluator\n",
        "predictions = lrModel.transform(testprepDF)\n",
        "evaluatorLR = BinaryClassificationEvaluator(rawPredictionCol='prediction')\n",
        "AUC = evaluatorLR.evaluate(predictions)\n",
        "\n",
        "# Default Evaluation is areaUnderROC\n",
        "print(\"AUC = {}\".format(AUC))\n",
        "\n",
        "evaluatorLR.getMetricName()"
      ],
      "execution_count": 48,
      "outputs": [
        {
          "output_type": "stream",
          "text": [
            "AUC = 0.7237720519666331\n"
          ],
          "name": "stdout"
        },
        {
          "output_type": "execute_result",
          "data": {
            "application/vnd.google.colaboratory.intrinsic+json": {
              "type": "string"
            },
            "text/plain": [
              "'areaUnderROC'"
            ]
          },
          "metadata": {
            "tags": []
          },
          "execution_count": 48
        }
      ]
    },
    {
      "cell_type": "code",
      "metadata": {
        "colab": {
          "base_uri": "https://localhost:8080/"
        },
        "id": "saIAHopjzw2i",
        "outputId": "cd7401fe-2b1e-4079-83eb-d0167643c147"
      },
      "source": [
        "from pyspark.mllib.evaluation import BinaryClassificationMetrics\n",
        "\n",
        "# Initial SparkContext\n",
        "sc = spark.sparkContext\n",
        "\n",
        "results = predictions.select(['prediction', 'label'])\n",
        " \n",
        "## prepare score-label set\n",
        "results_collect = results.collect()\n",
        "results_list = [(float(i[0]), float(i[1])) for i in results_collect]\n",
        "predictionAndLabels = sc.parallelize(results_list)\n",
        " \n",
        "metrics = BinaryClassificationMetrics(predictionAndLabels)\n",
        "\n",
        "# Area under precision-recall curve\n",
        "print(\"Area under PR = %s\" % metrics.areaUnderPR)\n",
        "\n",
        "# Area under ROC curve\n",
        "print(\"Area under ROC = %s\" % metrics.areaUnderROC)\n",
        "\n",
        "predictions.show(1)"
      ],
      "execution_count": 56,
      "outputs": [
        {
          "output_type": "stream",
          "text": [
            "Area under PR = 0.5825077132121096\n",
            "Area under ROC = 0.7237720519666331\n",
            "+----------+------+-------------+-------+----------+------+------------+-------------+---------------+--------------+------------+----------------+-----------+-----------+---------------+--------------+----------------+----------------+--------------+------------+-----+-----------+-------------+------------------+-------------------+------------+-------------+---------------+----------------+-----------------+------------------+------------------+-------------------+--------------------+---------------------+-------------------+--------------------+-----------------+------------------+---------------------+----------------------+----------------+-----------------+----------------+-----------------+--------------------+---------------------+-------------+--------------+---------------------+----------------------+------------------+-------------------+----------------+-----+----------+--------------------+--------------------+--------------------+----------+\n",
            "|customerID|gender|SeniorCitizen|Partner|Dependents|tenure|PhoneService|MultipleLines|InternetService|OnlineSecurity|OnlineBackup|DeviceProtection|TechSupport|StreamingTV|StreamingMovies|      Contract|PaperlessBilling|   PaymentMethod|MonthlyCharges|TotalCharges|Churn|genderIndex| gendercatVec|SeniorCitizenIndex|SeniorCitizencatVec|PartnerIndex|PartnercatVec|DependentsIndex|DependentscatVec|PhoneServiceIndex|PhoneServicecatVec|MultipleLinesIndex|MultipleLinescatVec|InternetServiceIndex|InternetServicecatVec|OnlineSecurityIndex|OnlineSecuritycatVec|OnlineBackupIndex|OnlineBackupcatVec|DeviceProtectionIndex|DeviceProtectioncatVec|TechSupportIndex|TechSupportcatVec|StreamingTVIndex|StreamingTVcatVec|StreamingMoviesIndex|StreamingMoviescatVec|ContractIndex|ContractcatVec|PaperlessBillingIndex|PaperlessBillingcatVec|PaymentMethodIndex|PaymentMethodcatVec|Out_TotalCharges|label|tenure_bin|            features|       rawPrediction|         probability|prediction|\n",
            "+----------+------+-------------+-------+----------+------+------------+-------------+---------------+--------------+------------+----------------+-----------+-----------+---------------+--------------+----------------+----------------+--------------+------------+-----+-----------+-------------+------------------+-------------------+------------+-------------+---------------+----------------+-----------------+------------------+------------------+-------------------+--------------------+---------------------+-------------------+--------------------+-----------------+------------------+---------------------+----------------------+----------------+-----------------+----------------+-----------------+--------------------+---------------------+-------------+--------------+---------------------+----------------------+------------------+-------------------+----------------+-----+----------+--------------------+--------------------+--------------------+----------+\n",
            "|0004-TLHLJ|  Male|            0|     No|        No|     4|         Yes|           No|    Fiber optic|            No|          No|             Yes|         No|         No|             No|Month-to-month|             Yes|Electronic check|          73.9|      280.85|  Yes|        0.0|(1,[0],[1.0])|               0.0|      (1,[0],[1.0])|         0.0|(1,[0],[1.0])|            0.0|   (1,[0],[1.0])|              0.0|     (1,[0],[1.0])|               0.0|      (2,[0],[1.0])|                 0.0|        (2,[0],[1.0])|                0.0|       (2,[0],[1.0])|              0.0|     (2,[0],[1.0])|                  1.0|         (2,[1],[1.0])|             0.0|    (2,[0],[1.0])|             0.0|    (2,[0],[1.0])|                 0.0|        (2,[0],[1.0])|          0.0| (2,[0],[1.0])|                  0.0|         (1,[0],[1.0])|               0.0|      (3,[0],[1.0])|          280.85|  1.0|       0.0|(30,[0,1,2,3,4,5,...|[-0.6644611474133...|[0.33973818981928...|       1.0|\n",
            "+----------+------+-------------+-------+----------+------+------------+-------------+---------------+--------------+------------+----------------+-----------+-----------+---------------+--------------+----------------+----------------+--------------+------------+-----+-----------+-------------+------------------+-------------------+------------+-------------+---------------+----------------+-----------------+------------------+------------------+-------------------+--------------------+---------------------+-------------------+--------------------+-----------------+------------------+---------------------+----------------------+----------------+-----------------+----------------+-----------------+--------------------+---------------------+-------------+--------------+---------------------+----------------------+------------------+-------------------+----------------+-----+----------+--------------------+--------------------+--------------------+----------+\n",
            "only showing top 1 row\n",
            "\n"
          ],
          "name": "stdout"
        }
      ]
    },
    {
      "cell_type": "code",
      "metadata": {
        "colab": {
          "base_uri": "https://localhost:8080/"
        },
        "id": "J_MVAw1X9E08",
        "outputId": "c32eb110-c3d1-41b5-d908-7381cd05f9a8"
      },
      "source": [
        "test_data.groupby('Churn').count().show()"
      ],
      "execution_count": 58,
      "outputs": [
        {
          "output_type": "stream",
          "text": [
            "+-----+-----+\n",
            "|Churn|count|\n",
            "+-----+-----+\n",
            "|   No| 1477|\n",
            "|  Yes|  530|\n",
            "+-----+-----+\n",
            "\n"
          ],
          "name": "stdout"
        }
      ]
    },
    {
      "cell_type": "code",
      "metadata": {
        "colab": {
          "base_uri": "https://localhost:8080/"
        },
        "id": "EjaLA8ZG9L5W",
        "outputId": "379debb7-c7a7-4b81-bb6f-c1b44c0f8a2b"
      },
      "source": [
        "count = predictions.count()\n",
        "correct = results.filter(results.prediction == results.label).count()\n",
        "wrong = results.filter(results.prediction != results.label).count()\n",
        "tp = results.filter(results.prediction == 1.0).filter(results.prediction == results.label).count()\n",
        "fp = results.filter(results.prediction == 1.0).filter(results.prediction != results.label).count()\n",
        "fn = results.filter(results.prediction == 0.0).filter(results.prediction != results.label).count()\n",
        "tn = results.filter(results.prediction == 0.0).filter(results.prediction == results.label).count()\n",
        "\n",
        "accuracy = (tp+tn)/count\n",
        "\n",
        "precision = tp/(tp+fp)\n",
        "\n",
        "recall = tp/(tp+fn)\n",
        "\n",
        "print(\"Correct: %s\\nWrong: %s\\ntp: %s\\nfp: %s\\nfn: %s\\ntn: %s\\nAccuracy: %s\\nPrecision: %s\\nRecall: %s\"\n",
        "      % (correct, wrong, tp, fp, fn, tn, accuracy, precision, recall))"
      ],
      "execution_count": 59,
      "outputs": [
        {
          "output_type": "stream",
          "text": [
            "Correct: 1627\n",
            "Wrong: 380\n",
            "tp: 286\n",
            "fp: 136\n",
            "fn: 244\n",
            "tn: 1341\n",
            "Accuracy: 0.8106626806178375\n",
            "Precision: 0.6777251184834123\n",
            "Recall: 0.539622641509434\n"
          ],
          "name": "stdout"
        }
      ]
    },
    {
      "cell_type": "markdown",
      "metadata": {
        "id": "O8ExXnba-Ts4"
      },
      "source": [
        "## Tuning Parameter"
      ]
    },
    {
      "cell_type": "code",
      "metadata": {
        "id": "RByCu26PAK-0"
      },
      "source": [
        "from pyspark.ml.tuning import ParamGridBuilder, CrossValidator\n",
        "\n",
        "# Create ParamGrid for Cross Validation\n",
        "paramGrid = (ParamGridBuilder() \n",
        "             .addGrid(lr.regParam, [0.01, 0.5, 2.0])\n",
        "             .addGrid(lr.elasticNetParam, [0.0, 0.5, 1.0])\n",
        "             .addGrid(lr.maxIter, [5, 10, 20])\n",
        "             .build())"
      ],
      "execution_count": 62,
      "outputs": []
    },
    {
      "cell_type": "code",
      "metadata": {
        "id": "nFioXqz1A6PC"
      },
      "source": [
        "cv = CrossValidator(estimator=lr,\n",
        "                    estimatorParamMaps=paramGrid,\n",
        "                    evaluator=evaluatorLR,\n",
        "                    numFolds=5)\n",
        "# Run Cross Validation\n",
        "cvModel = cv.fit(trainprepDF)"
      ],
      "execution_count": 64,
      "outputs": []
    },
    {
      "cell_type": "code",
      "metadata": {
        "id": "njwn0RDJBmBn"
      },
      "source": [
        "predictions = cvModel.bestModel.transform(testprepDF)"
      ],
      "execution_count": 65,
      "outputs": []
    },
    {
      "cell_type": "code",
      "metadata": {
        "colab": {
          "base_uri": "https://localhost:8080/"
        },
        "id": "1NnZSomVCxna",
        "outputId": "c3ae78fb-0ed8-4bca-e3c1-3f22cc1a31b6"
      },
      "source": [
        "evaluatorLR.evaluate(predictions)"
      ],
      "execution_count": 66,
      "outputs": [
        {
          "output_type": "execute_result",
          "data": {
            "text/plain": [
              "0.7181838504873468"
            ]
          },
          "metadata": {
            "tags": []
          },
          "execution_count": 66
        }
      ]
    },
    {
      "cell_type": "code",
      "metadata": {
        "colab": {
          "base_uri": "https://localhost:8080/"
        },
        "id": "n2e85tgiC1cB",
        "outputId": "f71513a6-255c-49c3-c390-c2277710e2fb"
      },
      "source": [
        "count = predictions.count()\n",
        "correct = results.filter(results.prediction == results.label).count()\n",
        "wrong = results.filter(results.prediction != results.label).count()\n",
        "tp = results.filter(results.prediction == 1.0).filter(results.prediction == results.label).count()\n",
        "fp = results.filter(results.prediction == 1.0).filter(results.prediction != results.label).count()\n",
        "fn = results.filter(results.prediction == 0.0).filter(results.prediction != results.label).count()\n",
        "tn = results.filter(results.prediction == 0.0).filter(results.prediction == results.label).count()\n",
        "\n",
        "accuracy = (tp+tn)/count\n",
        "\n",
        "precision = tp/(tp+fp)\n",
        "\n",
        "recall = tp/(tp+fn)\n",
        "\n",
        "print(\"Correct: %s\\nWrong: %s\\ntp: %s\\nfp: %s\\nfn: %s\\ntn: %s\\nAccuracy: %s\\nPrecision: %s\\nRecall: %s\"\n",
        "      % (correct, wrong, tp, fp, fn, tn, accuracy, precision, recall))"
      ],
      "execution_count": 67,
      "outputs": [
        {
          "output_type": "stream",
          "text": [
            "Correct: 1627\n",
            "Wrong: 380\n",
            "tp: 286\n",
            "fp: 136\n",
            "fn: 244\n",
            "tn: 1341\n",
            "Accuracy: 0.8106626806178375\n",
            "Precision: 0.6777251184834123\n",
            "Recall: 0.539622641509434\n"
          ],
          "name": "stdout"
        }
      ]
    },
    {
      "cell_type": "code",
      "metadata": {
        "colab": {
          "base_uri": "https://localhost:8080/",
          "height": 160
        },
        "id": "g7HmzNzJC8WU",
        "outputId": "7218bcf7-c5e4-4f2b-9592-6e6866135a1a"
      },
      "source": [
        "cvModel.explainParams()"
      ],
      "execution_count": 68,
      "outputs": [
        {
          "output_type": "execute_result",
          "data": {
            "application/vnd.google.colaboratory.intrinsic+json": {
              "type": "string"
            },
            "text/plain": [
              "\"estimator: estimator to be cross-validated (current: LogisticRegression_b614da7662fc)\\nestimatorParamMaps: estimator param maps (current: [{Param(parent='LogisticRegression_b614da7662fc', name='regParam', doc='regularization parameter (>= 0).'): 0.01, Param(parent='LogisticRegression_b614da7662fc', name='elasticNetParam', doc='the ElasticNet mixing parameter, in range [0, 1]. For alpha = 0, the penalty is an L2 penalty. For alpha = 1, it is an L1 penalty.'): 0.0, Param(parent='LogisticRegression_b614da7662fc', name='maxIter', doc='max number of iterations (>= 0).'): 5}, {Param(parent='LogisticRegression_b614da7662fc', name='regParam', doc='regularization parameter (>= 0).'): 0.01, Param(parent='LogisticRegression_b614da7662fc', name='elasticNetParam', doc='the ElasticNet mixing parameter, in range [0, 1]. For alpha = 0, the penalty is an L2 penalty. For alpha = 1, it is an L1 penalty.'): 0.0, Param(parent='LogisticRegression_b614da7662fc', name='maxIter', doc='max number of iterations (>= 0).'): 10}, {Param(parent='LogisticRegression_b614da7662fc', name='regParam', doc='regularization parameter (>= 0).'): 0.01, Param(parent='LogisticRegression_b614da7662fc', name='elasticNetParam', doc='the ElasticNet mixing parameter, in range [0, 1]. For alpha = 0, the penalty is an L2 penalty. For alpha = 1, it is an L1 penalty.'): 0.0, Param(parent='LogisticRegression_b614da7662fc', name='maxIter', doc='max number of iterations (>= 0).'): 20}, {Param(parent='LogisticRegression_b614da7662fc', name='regParam', doc='regularization parameter (>= 0).'): 0.01, Param(parent='LogisticRegression_b614da7662fc', name='elasticNetParam', doc='the ElasticNet mixing parameter, in range [0, 1]. For alpha = 0, the penalty is an L2 penalty. For alpha = 1, it is an L1 penalty.'): 0.5, Param(parent='LogisticRegression_b614da7662fc', name='maxIter', doc='max number of iterations (>= 0).'): 5}, {Param(parent='LogisticRegression_b614da7662fc', name='regParam', doc='regularization parameter (>= 0).'): 0.01, Param(parent='LogisticRegression_b614da7662fc', name='elasticNetParam', doc='the ElasticNet mixing parameter, in range [0, 1]. For alpha = 0, the penalty is an L2 penalty. For alpha = 1, it is an L1 penalty.'): 0.5, Param(parent='LogisticRegression_b614da7662fc', name='maxIter', doc='max number of iterations (>= 0).'): 10}, {Param(parent='LogisticRegression_b614da7662fc', name='regParam', doc='regularization parameter (>= 0).'): 0.01, Param(parent='LogisticRegression_b614da7662fc', name='elasticNetParam', doc='the ElasticNet mixing parameter, in range [0, 1]. For alpha = 0, the penalty is an L2 penalty. For alpha = 1, it is an L1 penalty.'): 0.5, Param(parent='LogisticRegression_b614da7662fc', name='maxIter', doc='max number of iterations (>= 0).'): 20}, {Param(parent='LogisticRegression_b614da7662fc', name='regParam', doc='regularization parameter (>= 0).'): 0.01, Param(parent='LogisticRegression_b614da7662fc', name='elasticNetParam', doc='the ElasticNet mixing parameter, in range [0, 1]. For alpha = 0, the penalty is an L2 penalty. For alpha = 1, it is an L1 penalty.'): 1.0, Param(parent='LogisticRegression_b614da7662fc', name='maxIter', doc='max number of iterations (>= 0).'): 5}, {Param(parent='LogisticRegression_b614da7662fc', name='regParam', doc='regularization parameter (>= 0).'): 0.01, Param(parent='LogisticRegression_b614da7662fc', name='elasticNetParam', doc='the ElasticNet mixing parameter, in range [0, 1]. For alpha = 0, the penalty is an L2 penalty. For alpha = 1, it is an L1 penalty.'): 1.0, Param(parent='LogisticRegression_b614da7662fc', name='maxIter', doc='max number of iterations (>= 0).'): 10}, {Param(parent='LogisticRegression_b614da7662fc', name='regParam', doc='regularization parameter (>= 0).'): 0.01, Param(parent='LogisticRegression_b614da7662fc', name='elasticNetParam', doc='the ElasticNet mixing parameter, in range [0, 1]. For alpha = 0, the penalty is an L2 penalty. For alpha = 1, it is an L1 penalty.'): 1.0, Param(parent='LogisticRegression_b614da7662fc', name='maxIter', doc='max number of iterations (>= 0).'): 20}, {Param(parent='LogisticRegression_b614da7662fc', name='regParam', doc='regularization parameter (>= 0).'): 0.5, Param(parent='LogisticRegression_b614da7662fc', name='elasticNetParam', doc='the ElasticNet mixing parameter, in range [0, 1]. For alpha = 0, the penalty is an L2 penalty. For alpha = 1, it is an L1 penalty.'): 0.0, Param(parent='LogisticRegression_b614da7662fc', name='maxIter', doc='max number of iterations (>= 0).'): 5}, {Param(parent='LogisticRegression_b614da7662fc', name='regParam', doc='regularization parameter (>= 0).'): 0.5, Param(parent='LogisticRegression_b614da7662fc', name='elasticNetParam', doc='the ElasticNet mixing parameter, in range [0, 1]. For alpha = 0, the penalty is an L2 penalty. For alpha = 1, it is an L1 penalty.'): 0.0, Param(parent='LogisticRegression_b614da7662fc', name='maxIter', doc='max number of iterations (>= 0).'): 10}, {Param(parent='LogisticRegression_b614da7662fc', name='regParam', doc='regularization parameter (>= 0).'): 0.5, Param(parent='LogisticRegression_b614da7662fc', name='elasticNetParam', doc='the ElasticNet mixing parameter, in range [0, 1]. For alpha = 0, the penalty is an L2 penalty. For alpha = 1, it is an L1 penalty.'): 0.0, Param(parent='LogisticRegression_b614da7662fc', name='maxIter', doc='max number of iterations (>= 0).'): 20}, {Param(parent='LogisticRegression_b614da7662fc', name='regParam', doc='regularization parameter (>= 0).'): 0.5, Param(parent='LogisticRegression_b614da7662fc', name='elasticNetParam', doc='the ElasticNet mixing parameter, in range [0, 1]. For alpha = 0, the penalty is an L2 penalty. For alpha = 1, it is an L1 penalty.'): 0.5, Param(parent='LogisticRegression_b614da7662fc', name='maxIter', doc='max number of iterations (>= 0).'): 5}, {Param(parent='LogisticRegression_b614da7662fc', name='regParam', doc='regularization parameter (>= 0).'): 0.5, Param(parent='LogisticRegression_b614da7662fc', name='elasticNetParam', doc='the ElasticNet mixing parameter, in range [0, 1]. For alpha = 0, the penalty is an L2 penalty. For alpha = 1, it is an L1 penalty.'): 0.5, Param(parent='LogisticRegression_b614da7662fc', name='maxIter', doc='max number of iterations (>= 0).'): 10}, {Param(parent='LogisticRegression_b614da7662fc', name='regParam', doc='regularization parameter (>= 0).'): 0.5, Param(parent='LogisticRegression_b614da7662fc', name='elasticNetParam', doc='the ElasticNet mixing parameter, in range [0, 1]. For alpha = 0, the penalty is an L2 penalty. For alpha = 1, it is an L1 penalty.'): 0.5, Param(parent='LogisticRegression_b614da7662fc', name='maxIter', doc='max number of iterations (>= 0).'): 20}, {Param(parent='LogisticRegression_b614da7662fc', name='regParam', doc='regularization parameter (>= 0).'): 0.5, Param(parent='LogisticRegression_b614da7662fc', name='elasticNetParam', doc='the ElasticNet mixing parameter, in range [0, 1]. For alpha = 0, the penalty is an L2 penalty. For alpha = 1, it is an L1 penalty.'): 1.0, Param(parent='LogisticRegression_b614da7662fc', name='maxIter', doc='max number of iterations (>= 0).'): 5}, {Param(parent='LogisticRegression_b614da7662fc', name='regParam', doc='regularization parameter (>= 0).'): 0.5, Param(parent='LogisticRegression_b614da7662fc', name='elasticNetParam', doc='the ElasticNet mixing parameter, in range [0, 1]. For alpha = 0, the penalty is an L2 penalty. For alpha = 1, it is an L1 penalty.'): 1.0, Param(parent='LogisticRegression_b614da7662fc', name='maxIter', doc='max number of iterations (>= 0).'): 10}, {Param(parent='LogisticRegression_b614da7662fc', name='regParam', doc='regularization parameter (>= 0).'): 0.5, Param(parent='LogisticRegression_b614da7662fc', name='elasticNetParam', doc='the ElasticNet mixing parameter, in range [0, 1]. For alpha = 0, the penalty is an L2 penalty. For alpha = 1, it is an L1 penalty.'): 1.0, Param(parent='LogisticRegression_b614da7662fc', name='maxIter', doc='max number of iterations (>= 0).'): 20}, {Param(parent='LogisticRegression_b614da7662fc', name='regParam', doc='regularization parameter (>= 0).'): 2.0, Param(parent='LogisticRegression_b614da7662fc', name='elasticNetParam', doc='the ElasticNet mixing parameter, in range [0, 1]. For alpha = 0, the penalty is an L2 penalty. For alpha = 1, it is an L1 penalty.'): 0.0, Param(parent='LogisticRegression_b614da7662fc', name='maxIter', doc='max number of iterations (>= 0).'): 5}, {Param(parent='LogisticRegression_b614da7662fc', name='regParam', doc='regularization parameter (>= 0).'): 2.0, Param(parent='LogisticRegression_b614da7662fc', name='elasticNetParam', doc='the ElasticNet mixing parameter, in range [0, 1]. For alpha = 0, the penalty is an L2 penalty. For alpha = 1, it is an L1 penalty.'): 0.0, Param(parent='LogisticRegression_b614da7662fc', name='maxIter', doc='max number of iterations (>= 0).'): 10}, {Param(parent='LogisticRegression_b614da7662fc', name='regParam', doc='regularization parameter (>= 0).'): 2.0, Param(parent='LogisticRegression_b614da7662fc', name='elasticNetParam', doc='the ElasticNet mixing parameter, in range [0, 1]. For alpha = 0, the penalty is an L2 penalty. For alpha = 1, it is an L1 penalty.'): 0.0, Param(parent='LogisticRegression_b614da7662fc', name='maxIter', doc='max number of iterations (>= 0).'): 20}, {Param(parent='LogisticRegression_b614da7662fc', name='regParam', doc='regularization parameter (>= 0).'): 2.0, Param(parent='LogisticRegression_b614da7662fc', name='elasticNetParam', doc='the ElasticNet mixing parameter, in range [0, 1]. For alpha = 0, the penalty is an L2 penalty. For alpha = 1, it is an L1 penalty.'): 0.5, Param(parent='LogisticRegression_b614da7662fc', name='maxIter', doc='max number of iterations (>= 0).'): 5}, {Param(parent='LogisticRegression_b614da7662fc', name='regParam', doc='regularization parameter (>= 0).'): 2.0, Param(parent='LogisticRegression_b614da7662fc', name='elasticNetParam', doc='the ElasticNet mixing parameter, in range [0, 1]. For alpha = 0, the penalty is an L2 penalty. For alpha = 1, it is an L1 penalty.'): 0.5, Param(parent='LogisticRegression_b614da7662fc', name='maxIter', doc='max number of iterations (>= 0).'): 10}, {Param(parent='LogisticRegression_b614da7662fc', name='regParam', doc='regularization parameter (>= 0).'): 2.0, Param(parent='LogisticRegression_b614da7662fc', name='elasticNetParam', doc='the ElasticNet mixing parameter, in range [0, 1]. For alpha = 0, the penalty is an L2 penalty. For alpha = 1, it is an L1 penalty.'): 0.5, Param(parent='LogisticRegression_b614da7662fc', name='maxIter', doc='max number of iterations (>= 0).'): 20}, {Param(parent='LogisticRegression_b614da7662fc', name='regParam', doc='regularization parameter (>= 0).'): 2.0, Param(parent='LogisticRegression_b614da7662fc', name='elasticNetParam', doc='the ElasticNet mixing parameter, in range [0, 1]. For alpha = 0, the penalty is an L2 penalty. For alpha = 1, it is an L1 penalty.'): 1.0, Param(parent='LogisticRegression_b614da7662fc', name='maxIter', doc='max number of iterations (>= 0).'): 5}, {Param(parent='LogisticRegression_b614da7662fc', name='regParam', doc='regularization parameter (>= 0).'): 2.0, Param(parent='LogisticRegression_b614da7662fc', name='elasticNetParam', doc='the ElasticNet mixing parameter, in range [0, 1]. For alpha = 0, the penalty is an L2 penalty. For alpha = 1, it is an L1 penalty.'): 1.0, Param(parent='LogisticRegression_b614da7662fc', name='maxIter', doc='max number of iterations (>= 0).'): 10}, {Param(parent='LogisticRegression_b614da7662fc', name='regParam', doc='regularization parameter (>= 0).'): 2.0, Param(parent='LogisticRegression_b614da7662fc', name='elasticNetParam', doc='the ElasticNet mixing parameter, in range [0, 1]. For alpha = 0, the penalty is an L2 penalty. For alpha = 1, it is an L1 penalty.'): 1.0, Param(parent='LogisticRegression_b614da7662fc', name='maxIter', doc='max number of iterations (>= 0).'): 20}])\\nevaluator: evaluator used to select hyper-parameters that maximize the validator metric (current: BinaryClassificationEvaluator_94c32858130b)\\nfoldCol: Param for the column name of user specified fold number. Once this is specified, :py:class:`CrossValidator` won't do random k-fold split. Note that this column should be integer type with range [0, numFolds) and Spark will throw exception on out-of-range fold numbers. (default: )\\nnumFolds: number of folds for cross validation (default: 3, current: 5)\\nseed: random seed. (default: 3987137134996552376)\""
            ]
          },
          "metadata": {
            "tags": []
          },
          "execution_count": 68
        }
      ]
    },
    {
      "cell_type": "markdown",
      "metadata": {
        "id": "3FgoLynzDXdD"
      },
      "source": [
        "## A/B Testing"
      ]
    },
    {
      "cell_type": "code",
      "metadata": {
        "id": "w6Zk4wj_DITz"
      },
      "source": [
        "from pyspark.ml.classification import RandomForestClassifier\n",
        "\n",
        "rf = RandomForestClassifier(labelCol=\"label\", featuresCol=\"features\").setImpurity(\"gini\").setMaxDepth(6).setNumTrees(50).setFeatureSubsetStrategy(\"auto\").setSeed(1010)\n",
        "\n",
        "rfModel = rf.fit(trainprepDF)"
      ],
      "execution_count": 69,
      "outputs": []
    },
    {
      "cell_type": "code",
      "metadata": {
        "id": "2SQGXsAfDUAX"
      },
      "source": [
        "predictions = rfModel.transform(testprepDF)"
      ],
      "execution_count": 70,
      "outputs": []
    },
    {
      "cell_type": "code",
      "metadata": {
        "colab": {
          "base_uri": "https://localhost:8080/"
        },
        "id": "s2sl3UvDDjnN",
        "outputId": "c6b85a09-3678-493b-a19e-5c9f5577916d"
      },
      "source": [
        "results = predictions.select(['prediction', 'label'])\n",
        "\n",
        "count=predictions.count()\n",
        "correct = results.filter(results.prediction == results.label).count()\n",
        "wrong = results.filter(results.prediction != results.label).count()\n",
        "tp = results.filter(results.prediction == 1.0).filter(results.prediction == results.label).count()\n",
        "fp = results.filter(results.prediction == 1.0).filter(results.prediction != results.label).count()\n",
        "fn = results.filter(results.prediction == 0.0).filter(results.prediction != results.label).count()\n",
        "tn = results.filter(results.prediction == 0.0).filter(results.prediction == results.label).count()\n",
        "\n",
        "accuracy = (tp+tn)/count\n",
        "\n",
        "precision = tp/(tp+fp)\n",
        "\n",
        "recall = tp/(tp+fn)\n",
        "\n",
        "print(\"Correct: %s\\nWrong: %s\\ntp: %s\\nfp: %s\\nfn: %s\\ntn: %s\\nAccuracy: %s\\nPrecision: %s\\nRecall: %s\"\n",
        "      % (correct, wrong, tp, fp, fn, tn, accuracy, precision, recall))"
      ],
      "execution_count": 71,
      "outputs": [
        {
          "output_type": "stream",
          "text": [
            "Correct: 1612\n",
            "Wrong: 395\n",
            "tp: 228\n",
            "fp: 93\n",
            "fn: 302\n",
            "tn: 1384\n",
            "Accuracy: 0.8031888390632785\n",
            "Precision: 0.7102803738317757\n",
            "Recall: 0.43018867924528303\n"
          ],
          "name": "stdout"
        }
      ]
    }
  ]
}